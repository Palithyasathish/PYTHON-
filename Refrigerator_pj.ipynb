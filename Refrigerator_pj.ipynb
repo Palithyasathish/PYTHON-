{
 "cells": [
  {
   "cell_type": "markdown",
   "id": "cf311ae8",
   "metadata": {},
   "source": [
    "# Project domain: Flipkart\n",
    "# Project Title: Data analysis of Refrigerator"
   ]
  },
  {
   "cell_type": "code",
   "execution_count": null,
   "id": "ba915dd9",
   "metadata": {},
   "outputs": [],
   "source": []
  },
  {
   "cell_type": "markdown",
   "id": "fa625b17",
   "metadata": {},
   "source": [
    "# Use case"
   ]
  },
  {
   "cell_type": "code",
   "execution_count": 1,
   "id": "6ca6a63b",
   "metadata": {},
   "outputs": [],
   "source": [
    "#Data scientists use python to help them extract ,process and mainpulate data via various python libraries"
   ]
  },
  {
   "cell_type": "code",
   "execution_count": 2,
   "id": "a2f37e09",
   "metadata": {},
   "outputs": [],
   "source": [
    "#python libraries\n",
    "import pandas as pd\n",
    "import numpy as np\n",
    "import matplotlib.pyplot as plt\n",
    "import seaborn as sns\n",
    "import requests\n",
    "from bs4 import BeautifulSoup\n",
    "from selenium import webdriver\n",
    "import time\n",
    "import re \n",
    "import csv"
   ]
  },
  {
   "cell_type": "markdown",
   "id": "f063bbf2",
   "metadata": {},
   "source": [
    "# web scraping"
   ]
  },
  {
   "cell_type": "code",
   "execution_count": 3,
   "id": "5ba2742b",
   "metadata": {},
   "outputs": [],
   "source": [
    "# web scraping is a term use of a program or algorith to ectract and process large amounts of data from the web"
   ]
  },
  {
   "cell_type": "code",
   "execution_count": 4,
   "id": "4a383931",
   "metadata": {},
   "outputs": [],
   "source": [
    "# emepty lists\n",
    "Company_name=[]\n",
    "Features=[]\n",
    "Rating=[]\n",
    "Offers=[]\n",
    "Price=[]\n",
    "Orginal_price=[]\n",
    "\n",
    "for i in range(1,24):\n",
    "    url=\"https://www.flipkart.com/search?q=refrigerator&sid=j9e%2Cabm%2Chzg&as=on&as-show=on&otracker=AS_QueryStore_OrganicAutoSuggest_1_3_na_na_na&otracker1=AS_QueryStore_OrganicAutoSuggest_1_3_na_na_na&as-pos=1&as-type=RECENT&suggestionId=refrigerator%7CRefrigerators&requestId=49ef8e7e-1e31-41c0-b52d-6d6a6e49b318&as-searchtext=ref\"\n",
    "    page=requests.get(url)# requests from url\n",
    "    pagecontent=page.content\n",
    "    soup=BeautifulSoup(pagecontent,'html.parser')\n",
    "    for i in soup.find_all('div',class_=\"_4rR01T\"):# it willretuns the product names from  the url\n",
    "        Company_name.append(i.text)# append variables from emepty list\n",
    "    for i in soup.find_all('li',class_=\"rgWa7D\"):\n",
    "        Features.append(i.text)\n",
    "    for i in soup.find_all('span',class_=\"12% off\"):\n",
    "        Offers.append(i.text)\n",
    "    for i in soup.find_all('div',class_=\"_3LWZlK\"):\n",
    "        Rating.append(i.text)\n",
    "    for i in soup.find_all('div',class_=\"_30jeq3 _1_WHN1\"):\n",
    "        Price.append(i.text)\n",
    "    for i in soup.find_all('div',class_=\"_3I9_wc _27UcVY\"):\n",
    "        Orginal_price.append(i.text)\n",
    "    \n",
    "\n"
   ]
  },
  {
   "cell_type": "code",
   "execution_count": 9,
   "id": "3f0a7bb1",
   "metadata": {},
   "outputs": [
    {
     "name": "stdout",
     "output_type": "stream",
     "text": [
      "528\n",
      "3624\n",
      "858\n",
      "528\n",
      "528\n"
     ]
    }
   ],
   "source": [
    "# it will returns the len of each varibles\n",
    "print(len(Company_name))\n",
    "print(len(Features))\n",
    "print(len(Rating))\n",
    "print(len(Price))\n",
    "print(len(Orginal_price))"
   ]
  },
  {
   "cell_type": "markdown",
   "id": "b52f7b64",
   "metadata": {},
   "source": [
    "# Data frame"
   ]
  },
  {
   "cell_type": "code",
   "execution_count": 10,
   "id": "8b334f07",
   "metadata": {},
   "outputs": [],
   "source": [
    "# Data frame is a 2 dimensional labeled data structure with columns of potrntially different tpye \n",
    "# You can think of it like a spreasheet or dict of serices object. it is generally the most commonly used for pandas object."
   ]
  },
  {
   "cell_type": "code",
   "execution_count": 13,
   "id": "b108f8f5",
   "metadata": {},
   "outputs": [],
   "source": [
    "d= {'Company_name':Company_name[0:500],\n",
    "    'Features':Features[0:500],\n",
    "    'Rating':Rating[0:500],\n",
    "    'Price':Price[0:500],\n",
    "    'Orginal_price':Orginal_price[0:500]}# it reutns dictionary\n",
    "# dictionary stores key and values in the data frame "
   ]
  },
  {
   "cell_type": "code",
   "execution_count": 14,
   "id": "29456206",
   "metadata": {},
   "outputs": [],
   "source": [
    "dataset = pd.DataFrame(d)#creating a data set\n",
    "#Finally merging all the featuures into a single dataframe"
   ]
  },
  {
   "cell_type": "code",
   "execution_count": 15,
   "id": "e19c86a0",
   "metadata": {},
   "outputs": [
    {
     "data": {
      "text/html": [
       "<div>\n",
       "<style scoped>\n",
       "    .dataframe tbody tr th:only-of-type {\n",
       "        vertical-align: middle;\n",
       "    }\n",
       "\n",
       "    .dataframe tbody tr th {\n",
       "        vertical-align: top;\n",
       "    }\n",
       "\n",
       "    .dataframe thead th {\n",
       "        text-align: right;\n",
       "    }\n",
       "</style>\n",
       "<table border=\"1\" class=\"dataframe\">\n",
       "  <thead>\n",
       "    <tr style=\"text-align: right;\">\n",
       "      <th></th>\n",
       "      <th>Company_name</th>\n",
       "      <th>Features</th>\n",
       "      <th>Rating</th>\n",
       "      <th>Price</th>\n",
       "      <th>Orginal_price</th>\n",
       "    </tr>\n",
       "  </thead>\n",
       "  <tbody>\n",
       "    <tr>\n",
       "      <th>0</th>\n",
       "      <td>Godrej 236 L Frost Free Double Door 2 Star Ref...</td>\n",
       "      <td>Inverter Compressor</td>\n",
       "      <td>4.2</td>\n",
       "      <td>₹19,490</td>\n",
       "      <td>₹21,900</td>\n",
       "    </tr>\n",
       "    <tr>\n",
       "      <th>1</th>\n",
       "      <td>SAMSUNG 253 L Frost Free Double Door 2 Star Re...</td>\n",
       "      <td>2 Star : For Energy savings up to 20%</td>\n",
       "      <td>4.3</td>\n",
       "      <td>₹26,990</td>\n",
       "      <td>₹28,990</td>\n",
       "    </tr>\n",
       "    <tr>\n",
       "      <th>2</th>\n",
       "      <td>SAMSUNG 198 L Direct Cool Single Door 5 Star R...</td>\n",
       "      <td>Toughened Glass Shelves</td>\n",
       "      <td>4.5</td>\n",
       "      <td>₹17,590</td>\n",
       "      <td>₹21,990</td>\n",
       "    </tr>\n",
       "    <tr>\n",
       "      <th>3</th>\n",
       "      <td>SAMSUNG 192 L Direct Cool Single Door 2 Star R...</td>\n",
       "      <td>236 L : Good for families of 3-5 members</td>\n",
       "      <td>4.4</td>\n",
       "      <td>₹12,990</td>\n",
       "      <td>₹14,990</td>\n",
       "    </tr>\n",
       "    <tr>\n",
       "      <th>4</th>\n",
       "      <td>SAMSUNG 230 L Direct Cool Single Door 3 Star R...</td>\n",
       "      <td>Built-in Stabilizer</td>\n",
       "      <td>4.3</td>\n",
       "      <td>₹16,890</td>\n",
       "      <td>₹18,990</td>\n",
       "    </tr>\n",
       "    <tr>\n",
       "      <th>...</th>\n",
       "      <td>...</td>\n",
       "      <td>...</td>\n",
       "      <td>...</td>\n",
       "      <td>...</td>\n",
       "      <td>...</td>\n",
       "    </tr>\n",
       "    <tr>\n",
       "      <th>495</th>\n",
       "      <td>SAMSUNG 192 L Direct Cool Single Door 3 Star R...</td>\n",
       "      <td>236 L : Good for families of 3-5 members</td>\n",
       "      <td>4.3</td>\n",
       "      <td>₹15,690</td>\n",
       "      <td>₹18,990</td>\n",
       "    </tr>\n",
       "    <tr>\n",
       "      <th>496</th>\n",
       "      <td>Whirlpool 245 L Frost Free Double Door 2 Star ...</td>\n",
       "      <td>Built-in Stabilizer</td>\n",
       "      <td>5</td>\n",
       "      <td>₹20,990</td>\n",
       "      <td>₹29,500</td>\n",
       "    </tr>\n",
       "    <tr>\n",
       "      <th>497</th>\n",
       "      <td>Godrej 236 L Frost Free Double Door 2 Star Ref...</td>\n",
       "      <td>2020 BEE Rating Year</td>\n",
       "      <td>5</td>\n",
       "      <td>₹19,280</td>\n",
       "      <td>₹21,900</td>\n",
       "    </tr>\n",
       "    <tr>\n",
       "      <th>498</th>\n",
       "      <td>Whirlpool 240 L Frost Free Triple Door Refrige...</td>\n",
       "      <td>1 Year Warranty on product and 10 Years Warran...</td>\n",
       "      <td>4.3</td>\n",
       "      <td>₹25,490</td>\n",
       "      <td>₹33,100</td>\n",
       "    </tr>\n",
       "    <tr>\n",
       "      <th>499</th>\n",
       "      <td>SAMSUNG 255 L Direct Cool Single Door 3 Star R...</td>\n",
       "      <td>Inverter Compressor</td>\n",
       "      <td>5</td>\n",
       "      <td>₹20,390</td>\n",
       "      <td>₹25,990</td>\n",
       "    </tr>\n",
       "  </tbody>\n",
       "</table>\n",
       "<p>500 rows × 5 columns</p>\n",
       "</div>"
      ],
      "text/plain": [
       "                                          Company_name  \\\n",
       "0    Godrej 236 L Frost Free Double Door 2 Star Ref...   \n",
       "1    SAMSUNG 253 L Frost Free Double Door 2 Star Re...   \n",
       "2    SAMSUNG 198 L Direct Cool Single Door 5 Star R...   \n",
       "3    SAMSUNG 192 L Direct Cool Single Door 2 Star R...   \n",
       "4    SAMSUNG 230 L Direct Cool Single Door 3 Star R...   \n",
       "..                                                 ...   \n",
       "495  SAMSUNG 192 L Direct Cool Single Door 3 Star R...   \n",
       "496  Whirlpool 245 L Frost Free Double Door 2 Star ...   \n",
       "497  Godrej 236 L Frost Free Double Door 2 Star Ref...   \n",
       "498  Whirlpool 240 L Frost Free Triple Door Refrige...   \n",
       "499  SAMSUNG 255 L Direct Cool Single Door 3 Star R...   \n",
       "\n",
       "                                              Features Rating    Price  \\\n",
       "0                                  Inverter Compressor    4.2  ₹19,490   \n",
       "1                2 Star : For Energy savings up to 20%    4.3  ₹26,990   \n",
       "2                              Toughened Glass Shelves    4.5  ₹17,590   \n",
       "3             236 L : Good for families of 3-5 members    4.4  ₹12,990   \n",
       "4                                  Built-in Stabilizer    4.3  ₹16,890   \n",
       "..                                                 ...    ...      ...   \n",
       "495           236 L : Good for families of 3-5 members    4.3  ₹15,690   \n",
       "496                                Built-in Stabilizer      5  ₹20,990   \n",
       "497                               2020 BEE Rating Year      5  ₹19,280   \n",
       "498  1 Year Warranty on product and 10 Years Warran...    4.3  ₹25,490   \n",
       "499                                Inverter Compressor      5  ₹20,390   \n",
       "\n",
       "    Orginal_price  \n",
       "0         ₹21,900  \n",
       "1         ₹28,990  \n",
       "2         ₹21,990  \n",
       "3         ₹14,990  \n",
       "4         ₹18,990  \n",
       "..            ...  \n",
       "495       ₹18,990  \n",
       "496       ₹29,500  \n",
       "497       ₹21,900  \n",
       "498       ₹33,100  \n",
       "499       ₹25,990  \n",
       "\n",
       "[500 rows x 5 columns]"
      ]
     },
     "execution_count": 15,
     "metadata": {},
     "output_type": "execute_result"
    }
   ],
   "source": [
    "dataset"
   ]
  },
  {
   "cell_type": "code",
   "execution_count": 16,
   "id": "4a24d01a",
   "metadata": {},
   "outputs": [],
   "source": [
    "dataset.to_csv('rf_24.csv')# downloading data set in stored locations"
   ]
  },
  {
   "cell_type": "code",
   "execution_count": 17,
   "id": "177e2f16",
   "metadata": {},
   "outputs": [],
   "source": [
    "df = pd.read_csv('rf_24.csv')# read csv file."
   ]
  },
  {
   "cell_type": "code",
   "execution_count": 18,
   "id": "cee3c2eb",
   "metadata": {},
   "outputs": [
    {
     "data": {
      "text/html": [
       "<div>\n",
       "<style scoped>\n",
       "    .dataframe tbody tr th:only-of-type {\n",
       "        vertical-align: middle;\n",
       "    }\n",
       "\n",
       "    .dataframe tbody tr th {\n",
       "        vertical-align: top;\n",
       "    }\n",
       "\n",
       "    .dataframe thead th {\n",
       "        text-align: right;\n",
       "    }\n",
       "</style>\n",
       "<table border=\"1\" class=\"dataframe\">\n",
       "  <thead>\n",
       "    <tr style=\"text-align: right;\">\n",
       "      <th></th>\n",
       "      <th>Unnamed: 0</th>\n",
       "      <th>Company_name</th>\n",
       "      <th>Features</th>\n",
       "      <th>Rating</th>\n",
       "      <th>Price</th>\n",
       "      <th>Orginal_price</th>\n",
       "    </tr>\n",
       "  </thead>\n",
       "  <tbody>\n",
       "    <tr>\n",
       "      <th>0</th>\n",
       "      <td>0</td>\n",
       "      <td>Godrej 236 L Frost Free Double Door 2 Star Ref...</td>\n",
       "      <td>Inverter Compressor</td>\n",
       "      <td>4.2</td>\n",
       "      <td>₹19,490</td>\n",
       "      <td>₹21,900</td>\n",
       "    </tr>\n",
       "    <tr>\n",
       "      <th>1</th>\n",
       "      <td>1</td>\n",
       "      <td>SAMSUNG 253 L Frost Free Double Door 2 Star Re...</td>\n",
       "      <td>2 Star : For Energy savings up to 20%</td>\n",
       "      <td>4.3</td>\n",
       "      <td>₹26,990</td>\n",
       "      <td>₹28,990</td>\n",
       "    </tr>\n",
       "    <tr>\n",
       "      <th>2</th>\n",
       "      <td>2</td>\n",
       "      <td>SAMSUNG 198 L Direct Cool Single Door 5 Star R...</td>\n",
       "      <td>Toughened Glass Shelves</td>\n",
       "      <td>4.5</td>\n",
       "      <td>₹17,590</td>\n",
       "      <td>₹21,990</td>\n",
       "    </tr>\n",
       "    <tr>\n",
       "      <th>3</th>\n",
       "      <td>3</td>\n",
       "      <td>SAMSUNG 192 L Direct Cool Single Door 2 Star R...</td>\n",
       "      <td>236 L : Good for families of 3-5 members</td>\n",
       "      <td>4.4</td>\n",
       "      <td>₹12,990</td>\n",
       "      <td>₹14,990</td>\n",
       "    </tr>\n",
       "    <tr>\n",
       "      <th>4</th>\n",
       "      <td>4</td>\n",
       "      <td>SAMSUNG 230 L Direct Cool Single Door 3 Star R...</td>\n",
       "      <td>Built-in Stabilizer</td>\n",
       "      <td>4.3</td>\n",
       "      <td>₹16,890</td>\n",
       "      <td>₹18,990</td>\n",
       "    </tr>\n",
       "    <tr>\n",
       "      <th>...</th>\n",
       "      <td>...</td>\n",
       "      <td>...</td>\n",
       "      <td>...</td>\n",
       "      <td>...</td>\n",
       "      <td>...</td>\n",
       "      <td>...</td>\n",
       "    </tr>\n",
       "    <tr>\n",
       "      <th>495</th>\n",
       "      <td>495</td>\n",
       "      <td>SAMSUNG 192 L Direct Cool Single Door 3 Star R...</td>\n",
       "      <td>236 L : Good for families of 3-5 members</td>\n",
       "      <td>4.3</td>\n",
       "      <td>₹15,690</td>\n",
       "      <td>₹18,990</td>\n",
       "    </tr>\n",
       "    <tr>\n",
       "      <th>496</th>\n",
       "      <td>496</td>\n",
       "      <td>Whirlpool 245 L Frost Free Double Door 2 Star ...</td>\n",
       "      <td>Built-in Stabilizer</td>\n",
       "      <td>5.0</td>\n",
       "      <td>₹20,990</td>\n",
       "      <td>₹29,500</td>\n",
       "    </tr>\n",
       "    <tr>\n",
       "      <th>497</th>\n",
       "      <td>497</td>\n",
       "      <td>Godrej 236 L Frost Free Double Door 2 Star Ref...</td>\n",
       "      <td>2020 BEE Rating Year</td>\n",
       "      <td>5.0</td>\n",
       "      <td>₹19,280</td>\n",
       "      <td>₹21,900</td>\n",
       "    </tr>\n",
       "    <tr>\n",
       "      <th>498</th>\n",
       "      <td>498</td>\n",
       "      <td>Whirlpool 240 L Frost Free Triple Door Refrige...</td>\n",
       "      <td>1 Year Warranty on product and 10 Years Warran...</td>\n",
       "      <td>4.3</td>\n",
       "      <td>₹25,490</td>\n",
       "      <td>₹33,100</td>\n",
       "    </tr>\n",
       "    <tr>\n",
       "      <th>499</th>\n",
       "      <td>499</td>\n",
       "      <td>SAMSUNG 255 L Direct Cool Single Door 3 Star R...</td>\n",
       "      <td>Inverter Compressor</td>\n",
       "      <td>5.0</td>\n",
       "      <td>₹20,390</td>\n",
       "      <td>₹25,990</td>\n",
       "    </tr>\n",
       "  </tbody>\n",
       "</table>\n",
       "<p>500 rows × 6 columns</p>\n",
       "</div>"
      ],
      "text/plain": [
       "     Unnamed: 0                                       Company_name  \\\n",
       "0             0  Godrej 236 L Frost Free Double Door 2 Star Ref...   \n",
       "1             1  SAMSUNG 253 L Frost Free Double Door 2 Star Re...   \n",
       "2             2  SAMSUNG 198 L Direct Cool Single Door 5 Star R...   \n",
       "3             3  SAMSUNG 192 L Direct Cool Single Door 2 Star R...   \n",
       "4             4  SAMSUNG 230 L Direct Cool Single Door 3 Star R...   \n",
       "..          ...                                                ...   \n",
       "495         495  SAMSUNG 192 L Direct Cool Single Door 3 Star R...   \n",
       "496         496  Whirlpool 245 L Frost Free Double Door 2 Star ...   \n",
       "497         497  Godrej 236 L Frost Free Double Door 2 Star Ref...   \n",
       "498         498  Whirlpool 240 L Frost Free Triple Door Refrige...   \n",
       "499         499  SAMSUNG 255 L Direct Cool Single Door 3 Star R...   \n",
       "\n",
       "                                              Features  Rating    Price  \\\n",
       "0                                  Inverter Compressor     4.2  ₹19,490   \n",
       "1                2 Star : For Energy savings up to 20%     4.3  ₹26,990   \n",
       "2                              Toughened Glass Shelves     4.5  ₹17,590   \n",
       "3             236 L : Good for families of 3-5 members     4.4  ₹12,990   \n",
       "4                                  Built-in Stabilizer     4.3  ₹16,890   \n",
       "..                                                 ...     ...      ...   \n",
       "495           236 L : Good for families of 3-5 members     4.3  ₹15,690   \n",
       "496                                Built-in Stabilizer     5.0  ₹20,990   \n",
       "497                               2020 BEE Rating Year     5.0  ₹19,280   \n",
       "498  1 Year Warranty on product and 10 Years Warran...     4.3  ₹25,490   \n",
       "499                                Inverter Compressor     5.0  ₹20,390   \n",
       "\n",
       "    Orginal_price  \n",
       "0         ₹21,900  \n",
       "1         ₹28,990  \n",
       "2         ₹21,990  \n",
       "3         ₹14,990  \n",
       "4         ₹18,990  \n",
       "..            ...  \n",
       "495       ₹18,990  \n",
       "496       ₹29,500  \n",
       "497       ₹21,900  \n",
       "498       ₹33,100  \n",
       "499       ₹25,990  \n",
       "\n",
       "[500 rows x 6 columns]"
      ]
     },
     "execution_count": 18,
     "metadata": {},
     "output_type": "execute_result"
    }
   ],
   "source": [
    "df# it will  print, the data frame"
   ]
  },
  {
   "cell_type": "markdown",
   "id": "200e26f1",
   "metadata": {},
   "source": [
    "# Data cleaning"
   ]
  },
  {
   "cell_type": "code",
   "execution_count": 19,
   "id": "7097dcd6",
   "metadata": {},
   "outputs": [],
   "source": [
    "#Data cleaning is a peocess of detecting and correcting(or removing) or corrupt or inaccurate records from a record set ,table or database"
   ]
  },
  {
   "cell_type": "code",
   "execution_count": 20,
   "id": "bd5a8d63",
   "metadata": {},
   "outputs": [],
   "source": [
    "df.drop('Unnamed: 0',axis=1,inplace=True)\n",
    "df.drop('Features',axis=1,inplace=True)\n",
    "# it  will  drop unnamed columns in the data frame, inplace() function  remove the column  permanently in the data frame   "
   ]
  },
  {
   "cell_type": "code",
   "execution_count": 21,
   "id": "6dcd7c49",
   "metadata": {},
   "outputs": [
    {
     "data": {
      "text/html": [
       "<div>\n",
       "<style scoped>\n",
       "    .dataframe tbody tr th:only-of-type {\n",
       "        vertical-align: middle;\n",
       "    }\n",
       "\n",
       "    .dataframe tbody tr th {\n",
       "        vertical-align: top;\n",
       "    }\n",
       "\n",
       "    .dataframe thead th {\n",
       "        text-align: right;\n",
       "    }\n",
       "</style>\n",
       "<table border=\"1\" class=\"dataframe\">\n",
       "  <thead>\n",
       "    <tr style=\"text-align: right;\">\n",
       "      <th></th>\n",
       "      <th>Company_name</th>\n",
       "      <th>Rating</th>\n",
       "      <th>Price</th>\n",
       "      <th>Orginal_price</th>\n",
       "    </tr>\n",
       "  </thead>\n",
       "  <tbody>\n",
       "    <tr>\n",
       "      <th>0</th>\n",
       "      <td>Godrej 236 L Frost Free Double Door 2 Star Ref...</td>\n",
       "      <td>4.2</td>\n",
       "      <td>₹19,490</td>\n",
       "      <td>₹21,900</td>\n",
       "    </tr>\n",
       "    <tr>\n",
       "      <th>1</th>\n",
       "      <td>SAMSUNG 253 L Frost Free Double Door 2 Star Re...</td>\n",
       "      <td>4.3</td>\n",
       "      <td>₹26,990</td>\n",
       "      <td>₹28,990</td>\n",
       "    </tr>\n",
       "    <tr>\n",
       "      <th>2</th>\n",
       "      <td>SAMSUNG 198 L Direct Cool Single Door 5 Star R...</td>\n",
       "      <td>4.5</td>\n",
       "      <td>₹17,590</td>\n",
       "      <td>₹21,990</td>\n",
       "    </tr>\n",
       "    <tr>\n",
       "      <th>3</th>\n",
       "      <td>SAMSUNG 192 L Direct Cool Single Door 2 Star R...</td>\n",
       "      <td>4.4</td>\n",
       "      <td>₹12,990</td>\n",
       "      <td>₹14,990</td>\n",
       "    </tr>\n",
       "    <tr>\n",
       "      <th>4</th>\n",
       "      <td>SAMSUNG 230 L Direct Cool Single Door 3 Star R...</td>\n",
       "      <td>4.3</td>\n",
       "      <td>₹16,890</td>\n",
       "      <td>₹18,990</td>\n",
       "    </tr>\n",
       "    <tr>\n",
       "      <th>...</th>\n",
       "      <td>...</td>\n",
       "      <td>...</td>\n",
       "      <td>...</td>\n",
       "      <td>...</td>\n",
       "    </tr>\n",
       "    <tr>\n",
       "      <th>495</th>\n",
       "      <td>SAMSUNG 192 L Direct Cool Single Door 3 Star R...</td>\n",
       "      <td>4.3</td>\n",
       "      <td>₹15,690</td>\n",
       "      <td>₹18,990</td>\n",
       "    </tr>\n",
       "    <tr>\n",
       "      <th>496</th>\n",
       "      <td>Whirlpool 245 L Frost Free Double Door 2 Star ...</td>\n",
       "      <td>5.0</td>\n",
       "      <td>₹20,990</td>\n",
       "      <td>₹29,500</td>\n",
       "    </tr>\n",
       "    <tr>\n",
       "      <th>497</th>\n",
       "      <td>Godrej 236 L Frost Free Double Door 2 Star Ref...</td>\n",
       "      <td>5.0</td>\n",
       "      <td>₹19,280</td>\n",
       "      <td>₹21,900</td>\n",
       "    </tr>\n",
       "    <tr>\n",
       "      <th>498</th>\n",
       "      <td>Whirlpool 240 L Frost Free Triple Door Refrige...</td>\n",
       "      <td>4.3</td>\n",
       "      <td>₹25,490</td>\n",
       "      <td>₹33,100</td>\n",
       "    </tr>\n",
       "    <tr>\n",
       "      <th>499</th>\n",
       "      <td>SAMSUNG 255 L Direct Cool Single Door 3 Star R...</td>\n",
       "      <td>5.0</td>\n",
       "      <td>₹20,390</td>\n",
       "      <td>₹25,990</td>\n",
       "    </tr>\n",
       "  </tbody>\n",
       "</table>\n",
       "<p>500 rows × 4 columns</p>\n",
       "</div>"
      ],
      "text/plain": [
       "                                          Company_name  Rating    Price  \\\n",
       "0    Godrej 236 L Frost Free Double Door 2 Star Ref...     4.2  ₹19,490   \n",
       "1    SAMSUNG 253 L Frost Free Double Door 2 Star Re...     4.3  ₹26,990   \n",
       "2    SAMSUNG 198 L Direct Cool Single Door 5 Star R...     4.5  ₹17,590   \n",
       "3    SAMSUNG 192 L Direct Cool Single Door 2 Star R...     4.4  ₹12,990   \n",
       "4    SAMSUNG 230 L Direct Cool Single Door 3 Star R...     4.3  ₹16,890   \n",
       "..                                                 ...     ...      ...   \n",
       "495  SAMSUNG 192 L Direct Cool Single Door 3 Star R...     4.3  ₹15,690   \n",
       "496  Whirlpool 245 L Frost Free Double Door 2 Star ...     5.0  ₹20,990   \n",
       "497  Godrej 236 L Frost Free Double Door 2 Star Ref...     5.0  ₹19,280   \n",
       "498  Whirlpool 240 L Frost Free Triple Door Refrige...     4.3  ₹25,490   \n",
       "499  SAMSUNG 255 L Direct Cool Single Door 3 Star R...     5.0  ₹20,390   \n",
       "\n",
       "    Orginal_price  \n",
       "0         ₹21,900  \n",
       "1         ₹28,990  \n",
       "2         ₹21,990  \n",
       "3         ₹14,990  \n",
       "4         ₹18,990  \n",
       "..            ...  \n",
       "495       ₹18,990  \n",
       "496       ₹29,500  \n",
       "497       ₹21,900  \n",
       "498       ₹33,100  \n",
       "499       ₹25,990  \n",
       "\n",
       "[500 rows x 4 columns]"
      ]
     },
     "execution_count": 21,
     "metadata": {},
     "output_type": "execute_result"
    }
   ],
   "source": [
    "df# printing of df "
   ]
  },
  {
   "cell_type": "code",
   "execution_count": 22,
   "id": "f452c6c5",
   "metadata": {},
   "outputs": [
    {
     "data": {
      "text/plain": [
       "11064362"
      ]
     },
     "execution_count": 22,
     "metadata": {},
     "output_type": "execute_result"
    }
   ],
   "source": [
    "df['Price']=df['Price'].str.replace(\"₹\",\",\")# it will replace '₹'to ''.\n",
    "df['Price']=df['Price'].str.replace(\",\",\"\")# it will replace \",\"to\".\n",
    "df['Price'].astype(str).astype(int)# as type is functions it will convert str to int.\n",
    "pd.to_numeric(df['Price']).astype(int)# it returns the numerical values in the price cloumns.\n",
    "df['Price']=pd.to_numeric(df['Price'])\n",
    "df['Price'].sum()# it will sum the entire price columnas in the data frame. "
   ]
  },
  {
   "cell_type": "code",
   "execution_count": 23,
   "id": "b80b1cb5",
   "metadata": {},
   "outputs": [
    {
     "data": {
      "text/plain": [
       "0      19490\n",
       "1      26990\n",
       "2      17590\n",
       "3      12990\n",
       "4      16890\n",
       "       ...  \n",
       "495    15690\n",
       "496    20990\n",
       "497    19280\n",
       "498    25490\n",
       "499    20390\n",
       "Name: Price, Length: 500, dtype: int64"
      ]
     },
     "execution_count": 23,
     "metadata": {},
     "output_type": "execute_result"
    }
   ],
   "source": [
    "df[\"Price\"] # it will retuns or print the price column.\n"
   ]
  },
  {
   "cell_type": "code",
   "execution_count": 24,
   "id": "3a7c7598",
   "metadata": {},
   "outputs": [
    {
     "data": {
      "text/plain": [
       "13232320"
      ]
     },
     "execution_count": 24,
     "metadata": {},
     "output_type": "execute_result"
    }
   ],
   "source": [
    "df['Orginal_price']=df['Orginal_price'].str.replace(\"₹\",\",\")# it will replace '₹'to ''\n",
    "df['Orginal_price']=df['Orginal_price'].str.replace(\",\",\"\")# it will replace \",\"to\"\n",
    "df['Orginal_price'].astype(str).astype(int)# as type is functions it will convert str to int\n",
    "pd.to_numeric(df['Orginal_price']).astype(int)# it returns the numerical values in the orginal_price cloumns\n",
    "df['Orginal_price']=pd.to_numeric(df['Orginal_price'])\n",
    "df['Orginal_price'].sum()# it will sum the entire orginal_price columnas in the data frame "
   ]
  },
  {
   "cell_type": "code",
   "execution_count": 25,
   "id": "b3b09afe",
   "metadata": {},
   "outputs": [
    {
     "data": {
      "text/plain": [
       "0      21900\n",
       "1      28990\n",
       "2      21990\n",
       "3      14990\n",
       "4      18990\n",
       "       ...  \n",
       "495    18990\n",
       "496    29500\n",
       "497    21900\n",
       "498    33100\n",
       "499    25990\n",
       "Name: Orginal_price, Length: 500, dtype: int64"
      ]
     },
     "execution_count": 25,
     "metadata": {},
     "output_type": "execute_result"
    }
   ],
   "source": [
    "df['Orginal_price']# its print orginal_price column"
   ]
  },
  {
   "cell_type": "code",
   "execution_count": 26,
   "id": "1ca7a54c",
   "metadata": {},
   "outputs": [
    {
     "data": {
      "text/html": [
       "<div>\n",
       "<style scoped>\n",
       "    .dataframe tbody tr th:only-of-type {\n",
       "        vertical-align: middle;\n",
       "    }\n",
       "\n",
       "    .dataframe tbody tr th {\n",
       "        vertical-align: top;\n",
       "    }\n",
       "\n",
       "    .dataframe thead th {\n",
       "        text-align: right;\n",
       "    }\n",
       "</style>\n",
       "<table border=\"1\" class=\"dataframe\">\n",
       "  <thead>\n",
       "    <tr style=\"text-align: right;\">\n",
       "      <th></th>\n",
       "      <th>Company_name</th>\n",
       "      <th>Rating</th>\n",
       "      <th>Price</th>\n",
       "      <th>Orginal_price</th>\n",
       "    </tr>\n",
       "  </thead>\n",
       "  <tbody>\n",
       "    <tr>\n",
       "      <th>0</th>\n",
       "      <td>Godrej 236 L Frost Free Double Door 2 Star Ref...</td>\n",
       "      <td>4.2</td>\n",
       "      <td>19490</td>\n",
       "      <td>21900</td>\n",
       "    </tr>\n",
       "    <tr>\n",
       "      <th>1</th>\n",
       "      <td>SAMSUNG 253 L Frost Free Double Door 2 Star Re...</td>\n",
       "      <td>4.3</td>\n",
       "      <td>26990</td>\n",
       "      <td>28990</td>\n",
       "    </tr>\n",
       "    <tr>\n",
       "      <th>2</th>\n",
       "      <td>SAMSUNG 198 L Direct Cool Single Door 5 Star R...</td>\n",
       "      <td>4.5</td>\n",
       "      <td>17590</td>\n",
       "      <td>21990</td>\n",
       "    </tr>\n",
       "    <tr>\n",
       "      <th>3</th>\n",
       "      <td>SAMSUNG 192 L Direct Cool Single Door 2 Star R...</td>\n",
       "      <td>4.4</td>\n",
       "      <td>12990</td>\n",
       "      <td>14990</td>\n",
       "    </tr>\n",
       "    <tr>\n",
       "      <th>4</th>\n",
       "      <td>SAMSUNG 230 L Direct Cool Single Door 3 Star R...</td>\n",
       "      <td>4.3</td>\n",
       "      <td>16890</td>\n",
       "      <td>18990</td>\n",
       "    </tr>\n",
       "    <tr>\n",
       "      <th>...</th>\n",
       "      <td>...</td>\n",
       "      <td>...</td>\n",
       "      <td>...</td>\n",
       "      <td>...</td>\n",
       "    </tr>\n",
       "    <tr>\n",
       "      <th>495</th>\n",
       "      <td>SAMSUNG 192 L Direct Cool Single Door 3 Star R...</td>\n",
       "      <td>4.3</td>\n",
       "      <td>15690</td>\n",
       "      <td>18990</td>\n",
       "    </tr>\n",
       "    <tr>\n",
       "      <th>496</th>\n",
       "      <td>Whirlpool 245 L Frost Free Double Door 2 Star ...</td>\n",
       "      <td>5.0</td>\n",
       "      <td>20990</td>\n",
       "      <td>29500</td>\n",
       "    </tr>\n",
       "    <tr>\n",
       "      <th>497</th>\n",
       "      <td>Godrej 236 L Frost Free Double Door 2 Star Ref...</td>\n",
       "      <td>5.0</td>\n",
       "      <td>19280</td>\n",
       "      <td>21900</td>\n",
       "    </tr>\n",
       "    <tr>\n",
       "      <th>498</th>\n",
       "      <td>Whirlpool 240 L Frost Free Triple Door Refrige...</td>\n",
       "      <td>4.3</td>\n",
       "      <td>25490</td>\n",
       "      <td>33100</td>\n",
       "    </tr>\n",
       "    <tr>\n",
       "      <th>499</th>\n",
       "      <td>SAMSUNG 255 L Direct Cool Single Door 3 Star R...</td>\n",
       "      <td>5.0</td>\n",
       "      <td>20390</td>\n",
       "      <td>25990</td>\n",
       "    </tr>\n",
       "  </tbody>\n",
       "</table>\n",
       "<p>500 rows × 4 columns</p>\n",
       "</div>"
      ],
      "text/plain": [
       "                                          Company_name  Rating  Price  \\\n",
       "0    Godrej 236 L Frost Free Double Door 2 Star Ref...     4.2  19490   \n",
       "1    SAMSUNG 253 L Frost Free Double Door 2 Star Re...     4.3  26990   \n",
       "2    SAMSUNG 198 L Direct Cool Single Door 5 Star R...     4.5  17590   \n",
       "3    SAMSUNG 192 L Direct Cool Single Door 2 Star R...     4.4  12990   \n",
       "4    SAMSUNG 230 L Direct Cool Single Door 3 Star R...     4.3  16890   \n",
       "..                                                 ...     ...    ...   \n",
       "495  SAMSUNG 192 L Direct Cool Single Door 3 Star R...     4.3  15690   \n",
       "496  Whirlpool 245 L Frost Free Double Door 2 Star ...     5.0  20990   \n",
       "497  Godrej 236 L Frost Free Double Door 2 Star Ref...     5.0  19280   \n",
       "498  Whirlpool 240 L Frost Free Triple Door Refrige...     4.3  25490   \n",
       "499  SAMSUNG 255 L Direct Cool Single Door 3 Star R...     5.0  20390   \n",
       "\n",
       "     Orginal_price  \n",
       "0            21900  \n",
       "1            28990  \n",
       "2            21990  \n",
       "3            14990  \n",
       "4            18990  \n",
       "..             ...  \n",
       "495          18990  \n",
       "496          29500  \n",
       "497          21900  \n",
       "498          33100  \n",
       "499          25990  \n",
       "\n",
       "[500 rows x 4 columns]"
      ]
     },
     "execution_count": 26,
     "metadata": {},
     "output_type": "execute_result"
    }
   ],
   "source": [
    "df"
   ]
  },
  {
   "cell_type": "code",
   "execution_count": 27,
   "id": "77a91637",
   "metadata": {},
   "outputs": [],
   "source": [
    "df['Brand']=df['Company_name'].apply(lambda x:x.split()[0])# it will split brand name from Company _name column.\n",
    "df['litters']=df['Company_name'].apply(lambda x:x.split()[1])# it  will split litters from company_name column.\n",
    "df['Doors']=df['Company_name'].apply(lambda x:\" \".join(x.split()[5:6]))# it returns join and split function.\n",
    "df['star']=df['Company_name'].apply(lambda x:\" \".join(x.split()[7:8]))# it returns join and split function. "
   ]
  },
  {
   "cell_type": "code",
   "execution_count": 28,
   "id": "8b15e8ed",
   "metadata": {},
   "outputs": [
    {
     "data": {
      "text/html": [
       "<div>\n",
       "<style scoped>\n",
       "    .dataframe tbody tr th:only-of-type {\n",
       "        vertical-align: middle;\n",
       "    }\n",
       "\n",
       "    .dataframe tbody tr th {\n",
       "        vertical-align: top;\n",
       "    }\n",
       "\n",
       "    .dataframe thead th {\n",
       "        text-align: right;\n",
       "    }\n",
       "</style>\n",
       "<table border=\"1\" class=\"dataframe\">\n",
       "  <thead>\n",
       "    <tr style=\"text-align: right;\">\n",
       "      <th></th>\n",
       "      <th>Company_name</th>\n",
       "      <th>Rating</th>\n",
       "      <th>Price</th>\n",
       "      <th>Orginal_price</th>\n",
       "      <th>Brand</th>\n",
       "      <th>litters</th>\n",
       "      <th>Doors</th>\n",
       "      <th>star</th>\n",
       "    </tr>\n",
       "  </thead>\n",
       "  <tbody>\n",
       "    <tr>\n",
       "      <th>0</th>\n",
       "      <td>Godrej 236 L Frost Free Double Door 2 Star Ref...</td>\n",
       "      <td>4.2</td>\n",
       "      <td>19490</td>\n",
       "      <td>21900</td>\n",
       "      <td>Godrej</td>\n",
       "      <td>236</td>\n",
       "      <td>Double</td>\n",
       "      <td>2</td>\n",
       "    </tr>\n",
       "    <tr>\n",
       "      <th>1</th>\n",
       "      <td>SAMSUNG 253 L Frost Free Double Door 2 Star Re...</td>\n",
       "      <td>4.3</td>\n",
       "      <td>26990</td>\n",
       "      <td>28990</td>\n",
       "      <td>SAMSUNG</td>\n",
       "      <td>253</td>\n",
       "      <td>Double</td>\n",
       "      <td>2</td>\n",
       "    </tr>\n",
       "    <tr>\n",
       "      <th>2</th>\n",
       "      <td>SAMSUNG 198 L Direct Cool Single Door 5 Star R...</td>\n",
       "      <td>4.5</td>\n",
       "      <td>17590</td>\n",
       "      <td>21990</td>\n",
       "      <td>SAMSUNG</td>\n",
       "      <td>198</td>\n",
       "      <td>Single</td>\n",
       "      <td>5</td>\n",
       "    </tr>\n",
       "    <tr>\n",
       "      <th>3</th>\n",
       "      <td>SAMSUNG 192 L Direct Cool Single Door 2 Star R...</td>\n",
       "      <td>4.4</td>\n",
       "      <td>12990</td>\n",
       "      <td>14990</td>\n",
       "      <td>SAMSUNG</td>\n",
       "      <td>192</td>\n",
       "      <td>Single</td>\n",
       "      <td>2</td>\n",
       "    </tr>\n",
       "    <tr>\n",
       "      <th>4</th>\n",
       "      <td>SAMSUNG 230 L Direct Cool Single Door 3 Star R...</td>\n",
       "      <td>4.3</td>\n",
       "      <td>16890</td>\n",
       "      <td>18990</td>\n",
       "      <td>SAMSUNG</td>\n",
       "      <td>230</td>\n",
       "      <td>Single</td>\n",
       "      <td>3</td>\n",
       "    </tr>\n",
       "    <tr>\n",
       "      <th>...</th>\n",
       "      <td>...</td>\n",
       "      <td>...</td>\n",
       "      <td>...</td>\n",
       "      <td>...</td>\n",
       "      <td>...</td>\n",
       "      <td>...</td>\n",
       "      <td>...</td>\n",
       "      <td>...</td>\n",
       "    </tr>\n",
       "    <tr>\n",
       "      <th>495</th>\n",
       "      <td>SAMSUNG 192 L Direct Cool Single Door 3 Star R...</td>\n",
       "      <td>4.3</td>\n",
       "      <td>15690</td>\n",
       "      <td>18990</td>\n",
       "      <td>SAMSUNG</td>\n",
       "      <td>192</td>\n",
       "      <td>Single</td>\n",
       "      <td>3</td>\n",
       "    </tr>\n",
       "    <tr>\n",
       "      <th>496</th>\n",
       "      <td>Whirlpool 245 L Frost Free Double Door 2 Star ...</td>\n",
       "      <td>5.0</td>\n",
       "      <td>20990</td>\n",
       "      <td>29500</td>\n",
       "      <td>Whirlpool</td>\n",
       "      <td>245</td>\n",
       "      <td>Double</td>\n",
       "      <td>2</td>\n",
       "    </tr>\n",
       "    <tr>\n",
       "      <th>497</th>\n",
       "      <td>Godrej 236 L Frost Free Double Door 2 Star Ref...</td>\n",
       "      <td>5.0</td>\n",
       "      <td>19280</td>\n",
       "      <td>21900</td>\n",
       "      <td>Godrej</td>\n",
       "      <td>236</td>\n",
       "      <td>Double</td>\n",
       "      <td>2</td>\n",
       "    </tr>\n",
       "    <tr>\n",
       "      <th>498</th>\n",
       "      <td>Whirlpool 240 L Frost Free Triple Door Refrige...</td>\n",
       "      <td>4.3</td>\n",
       "      <td>25490</td>\n",
       "      <td>33100</td>\n",
       "      <td>Whirlpool</td>\n",
       "      <td>240</td>\n",
       "      <td>Triple</td>\n",
       "      <td>Refrigerator</td>\n",
       "    </tr>\n",
       "    <tr>\n",
       "      <th>499</th>\n",
       "      <td>SAMSUNG 255 L Direct Cool Single Door 3 Star R...</td>\n",
       "      <td>5.0</td>\n",
       "      <td>20390</td>\n",
       "      <td>25990</td>\n",
       "      <td>SAMSUNG</td>\n",
       "      <td>255</td>\n",
       "      <td>Single</td>\n",
       "      <td>3</td>\n",
       "    </tr>\n",
       "  </tbody>\n",
       "</table>\n",
       "<p>500 rows × 8 columns</p>\n",
       "</div>"
      ],
      "text/plain": [
       "                                          Company_name  Rating  Price  \\\n",
       "0    Godrej 236 L Frost Free Double Door 2 Star Ref...     4.2  19490   \n",
       "1    SAMSUNG 253 L Frost Free Double Door 2 Star Re...     4.3  26990   \n",
       "2    SAMSUNG 198 L Direct Cool Single Door 5 Star R...     4.5  17590   \n",
       "3    SAMSUNG 192 L Direct Cool Single Door 2 Star R...     4.4  12990   \n",
       "4    SAMSUNG 230 L Direct Cool Single Door 3 Star R...     4.3  16890   \n",
       "..                                                 ...     ...    ...   \n",
       "495  SAMSUNG 192 L Direct Cool Single Door 3 Star R...     4.3  15690   \n",
       "496  Whirlpool 245 L Frost Free Double Door 2 Star ...     5.0  20990   \n",
       "497  Godrej 236 L Frost Free Double Door 2 Star Ref...     5.0  19280   \n",
       "498  Whirlpool 240 L Frost Free Triple Door Refrige...     4.3  25490   \n",
       "499  SAMSUNG 255 L Direct Cool Single Door 3 Star R...     5.0  20390   \n",
       "\n",
       "     Orginal_price      Brand litters   Doors          star  \n",
       "0            21900     Godrej     236  Double             2  \n",
       "1            28990    SAMSUNG     253  Double             2  \n",
       "2            21990    SAMSUNG     198  Single             5  \n",
       "3            14990    SAMSUNG     192  Single             2  \n",
       "4            18990    SAMSUNG     230  Single             3  \n",
       "..             ...        ...     ...     ...           ...  \n",
       "495          18990    SAMSUNG     192  Single             3  \n",
       "496          29500  Whirlpool     245  Double             2  \n",
       "497          21900     Godrej     236  Double             2  \n",
       "498          33100  Whirlpool     240  Triple  Refrigerator  \n",
       "499          25990    SAMSUNG     255  Single             3  \n",
       "\n",
       "[500 rows x 8 columns]"
      ]
     },
     "execution_count": 28,
     "metadata": {},
     "output_type": "execute_result"
    }
   ],
   "source": [
    "df"
   ]
  },
  {
   "cell_type": "code",
   "execution_count": 29,
   "id": "8adf312b",
   "metadata": {},
   "outputs": [],
   "source": [
    "df.drop('Company_name',axis=1,inplace=True)"
   ]
  },
  {
   "cell_type": "code",
   "execution_count": 30,
   "id": "392cc000",
   "metadata": {},
   "outputs": [
    {
     "data": {
      "text/html": [
       "<div>\n",
       "<style scoped>\n",
       "    .dataframe tbody tr th:only-of-type {\n",
       "        vertical-align: middle;\n",
       "    }\n",
       "\n",
       "    .dataframe tbody tr th {\n",
       "        vertical-align: top;\n",
       "    }\n",
       "\n",
       "    .dataframe thead th {\n",
       "        text-align: right;\n",
       "    }\n",
       "</style>\n",
       "<table border=\"1\" class=\"dataframe\">\n",
       "  <thead>\n",
       "    <tr style=\"text-align: right;\">\n",
       "      <th></th>\n",
       "      <th>Rating</th>\n",
       "      <th>Price</th>\n",
       "      <th>Orginal_price</th>\n",
       "      <th>Brand</th>\n",
       "      <th>litters</th>\n",
       "      <th>Doors</th>\n",
       "      <th>star</th>\n",
       "    </tr>\n",
       "  </thead>\n",
       "  <tbody>\n",
       "    <tr>\n",
       "      <th>0</th>\n",
       "      <td>4.2</td>\n",
       "      <td>19490</td>\n",
       "      <td>21900</td>\n",
       "      <td>Godrej</td>\n",
       "      <td>236</td>\n",
       "      <td>Double</td>\n",
       "      <td>2</td>\n",
       "    </tr>\n",
       "    <tr>\n",
       "      <th>1</th>\n",
       "      <td>4.3</td>\n",
       "      <td>26990</td>\n",
       "      <td>28990</td>\n",
       "      <td>SAMSUNG</td>\n",
       "      <td>253</td>\n",
       "      <td>Double</td>\n",
       "      <td>2</td>\n",
       "    </tr>\n",
       "    <tr>\n",
       "      <th>2</th>\n",
       "      <td>4.5</td>\n",
       "      <td>17590</td>\n",
       "      <td>21990</td>\n",
       "      <td>SAMSUNG</td>\n",
       "      <td>198</td>\n",
       "      <td>Single</td>\n",
       "      <td>5</td>\n",
       "    </tr>\n",
       "    <tr>\n",
       "      <th>3</th>\n",
       "      <td>4.4</td>\n",
       "      <td>12990</td>\n",
       "      <td>14990</td>\n",
       "      <td>SAMSUNG</td>\n",
       "      <td>192</td>\n",
       "      <td>Single</td>\n",
       "      <td>2</td>\n",
       "    </tr>\n",
       "    <tr>\n",
       "      <th>4</th>\n",
       "      <td>4.3</td>\n",
       "      <td>16890</td>\n",
       "      <td>18990</td>\n",
       "      <td>SAMSUNG</td>\n",
       "      <td>230</td>\n",
       "      <td>Single</td>\n",
       "      <td>3</td>\n",
       "    </tr>\n",
       "    <tr>\n",
       "      <th>...</th>\n",
       "      <td>...</td>\n",
       "      <td>...</td>\n",
       "      <td>...</td>\n",
       "      <td>...</td>\n",
       "      <td>...</td>\n",
       "      <td>...</td>\n",
       "      <td>...</td>\n",
       "    </tr>\n",
       "    <tr>\n",
       "      <th>495</th>\n",
       "      <td>4.3</td>\n",
       "      <td>15690</td>\n",
       "      <td>18990</td>\n",
       "      <td>SAMSUNG</td>\n",
       "      <td>192</td>\n",
       "      <td>Single</td>\n",
       "      <td>3</td>\n",
       "    </tr>\n",
       "    <tr>\n",
       "      <th>496</th>\n",
       "      <td>5.0</td>\n",
       "      <td>20990</td>\n",
       "      <td>29500</td>\n",
       "      <td>Whirlpool</td>\n",
       "      <td>245</td>\n",
       "      <td>Double</td>\n",
       "      <td>2</td>\n",
       "    </tr>\n",
       "    <tr>\n",
       "      <th>497</th>\n",
       "      <td>5.0</td>\n",
       "      <td>19280</td>\n",
       "      <td>21900</td>\n",
       "      <td>Godrej</td>\n",
       "      <td>236</td>\n",
       "      <td>Double</td>\n",
       "      <td>2</td>\n",
       "    </tr>\n",
       "    <tr>\n",
       "      <th>498</th>\n",
       "      <td>4.3</td>\n",
       "      <td>25490</td>\n",
       "      <td>33100</td>\n",
       "      <td>Whirlpool</td>\n",
       "      <td>240</td>\n",
       "      <td>Triple</td>\n",
       "      <td>Refrigerator</td>\n",
       "    </tr>\n",
       "    <tr>\n",
       "      <th>499</th>\n",
       "      <td>5.0</td>\n",
       "      <td>20390</td>\n",
       "      <td>25990</td>\n",
       "      <td>SAMSUNG</td>\n",
       "      <td>255</td>\n",
       "      <td>Single</td>\n",
       "      <td>3</td>\n",
       "    </tr>\n",
       "  </tbody>\n",
       "</table>\n",
       "<p>500 rows × 7 columns</p>\n",
       "</div>"
      ],
      "text/plain": [
       "     Rating  Price  Orginal_price      Brand litters   Doors          star\n",
       "0       4.2  19490          21900     Godrej     236  Double             2\n",
       "1       4.3  26990          28990    SAMSUNG     253  Double             2\n",
       "2       4.5  17590          21990    SAMSUNG     198  Single             5\n",
       "3       4.4  12990          14990    SAMSUNG     192  Single             2\n",
       "4       4.3  16890          18990    SAMSUNG     230  Single             3\n",
       "..      ...    ...            ...        ...     ...     ...           ...\n",
       "495     4.3  15690          18990    SAMSUNG     192  Single             3\n",
       "496     5.0  20990          29500  Whirlpool     245  Double             2\n",
       "497     5.0  19280          21900     Godrej     236  Double             2\n",
       "498     4.3  25490          33100  Whirlpool     240  Triple  Refrigerator\n",
       "499     5.0  20390          25990    SAMSUNG     255  Single             3\n",
       "\n",
       "[500 rows x 7 columns]"
      ]
     },
     "execution_count": 30,
     "metadata": {},
     "output_type": "execute_result"
    }
   ],
   "source": [
    "df"
   ]
  },
  {
   "cell_type": "code",
   "execution_count": 31,
   "id": "bb1b7d8d",
   "metadata": {},
   "outputs": [
    {
     "name": "stdout",
     "output_type": "stream",
     "text": [
      "2\n",
      "2\n",
      "5\n",
      "2\n",
      "3\n",
      "4\n",
      "4\n",
      "1\n",
      "3\n",
      "5\n",
      "2\n",
      "3\n",
      "2\n",
      "2\n",
      "2\n",
      "2\n",
      "2\n",
      "2\n",
      "Refrigerator\n",
      "3\n",
      "3\n",
      "3\n",
      "4\n",
      "Side\n",
      "2\n",
      "4\n",
      "4\n",
      "3\n",
      "5\n",
      "4\n",
      "4\n",
      "2\n",
      "2\n",
      "2\n",
      "3\n",
      "3\n",
      "4\n",
      "Refrigerator\n",
      "5\n",
      "1\n",
      "2\n",
      "5\n",
      "3\n",
      "Side\n",
      "2\n",
      "3\n",
      "2\n",
      "Bottom\n",
      "2\n",
      "2\n",
      "5\n",
      "2\n",
      "3\n",
      "4\n",
      "4\n",
      "1\n",
      "3\n",
      "5\n",
      "2\n",
      "2\n",
      "2\n",
      "2\n",
      "2\n",
      "3\n",
      "2\n",
      "2\n",
      "Refrigerator\n",
      "3\n",
      "3\n",
      "3\n",
      "4\n",
      "Side\n",
      "2\n",
      "4\n",
      "5\n",
      "2\n",
      "3\n",
      "4\n",
      "4\n",
      "2\n",
      "3\n",
      "5\n",
      "2\n",
      "3\n",
      "2\n",
      "2\n",
      "2\n",
      "1\n",
      "2\n",
      "2\n",
      "Refrigerator\n",
      "Side\n",
      "3\n",
      "3\n",
      "4\n",
      "Bottom\n",
      "3\n",
      "2\n",
      "4\n",
      "3\n",
      "5\n",
      "4\n",
      "4\n",
      "2\n",
      "2\n",
      "2\n",
      "3\n",
      "1\n",
      "4\n",
      "Refrigerator\n",
      "5\n",
      "3\n",
      "2\n",
      "5\n",
      "3\n",
      "2\n",
      "2\n",
      "3\n",
      "2\n",
      "3\n",
      "3\n",
      "2\n",
      "4\n",
      "3\n",
      "5\n",
      "4\n",
      "4\n",
      "2\n",
      "2\n",
      "2\n",
      "3\n",
      "1\n",
      "4\n",
      "Refrigerator\n",
      "5\n",
      "3\n",
      "2\n",
      "5\n",
      "3\n",
      "2\n",
      "2\n",
      "3\n",
      "2\n",
      "3\n",
      "3\n",
      "2\n",
      "4\n",
      "3\n",
      "5\n",
      "4\n",
      "4\n",
      "2\n",
      "2\n",
      "2\n",
      "3\n",
      "1\n",
      "4\n",
      "Refrigerator\n",
      "5\n",
      "3\n",
      "2\n",
      "5\n",
      "3\n",
      "2\n",
      "2\n",
      "3\n",
      "2\n",
      "3\n",
      "3\n",
      "2\n",
      "4\n",
      "3\n",
      "5\n",
      "4\n",
      "4\n",
      "2\n",
      "2\n",
      "2\n",
      "3\n",
      "1\n",
      "4\n",
      "Refrigerator\n",
      "5\n",
      "3\n",
      "2\n",
      "5\n",
      "3\n",
      "2\n",
      "2\n",
      "3\n",
      "2\n",
      "3\n",
      "3\n",
      "2\n",
      "4\n",
      "3\n",
      "5\n",
      "4\n",
      "4\n",
      "2\n",
      "2\n",
      "2\n",
      "3\n",
      "1\n",
      "4\n",
      "Refrigerator\n",
      "5\n",
      "3\n",
      "2\n",
      "5\n",
      "3\n",
      "2\n",
      "2\n",
      "3\n",
      "2\n",
      "3\n",
      "3\n",
      "2\n",
      "4\n",
      "3\n",
      "5\n",
      "4\n",
      "4\n",
      "2\n",
      "2\n",
      "2\n",
      "3\n",
      "1\n",
      "4\n",
      "Refrigerator\n",
      "5\n",
      "3\n",
      "2\n",
      "5\n",
      "3\n",
      "2\n",
      "2\n",
      "3\n",
      "2\n",
      "3\n",
      "2\n",
      "4\n",
      "5\n",
      "2\n",
      "3\n",
      "4\n",
      "4\n",
      "2\n",
      "3\n",
      "5\n",
      "2\n",
      "3\n",
      "2\n",
      "2\n",
      "2\n",
      "1\n",
      "2\n",
      "2\n",
      "Refrigerator\n",
      "Side\n",
      "3\n",
      "3\n",
      "4\n",
      "Bottom\n",
      "2\n",
      "2\n",
      "5\n",
      "2\n",
      "3\n",
      "4\n",
      "4\n",
      "1\n",
      "3\n",
      "5\n",
      "2\n",
      "3\n",
      "2\n",
      "2\n",
      "2\n",
      "2\n",
      "2\n",
      "2\n",
      "Refrigerator\n",
      "3\n",
      "3\n",
      "3\n",
      "4\n",
      "Side\n",
      "2\n",
      "2\n",
      "5\n",
      "2\n",
      "3\n",
      "4\n",
      "4\n",
      "1\n",
      "3\n",
      "5\n",
      "2\n",
      "3\n",
      "2\n",
      "2\n",
      "2\n",
      "2\n",
      "2\n",
      "2\n",
      "Refrigerator\n",
      "3\n",
      "3\n",
      "3\n",
      "4\n",
      "Side\n",
      "2\n",
      "2\n",
      "5\n",
      "2\n",
      "3\n",
      "4\n",
      "4\n",
      "1\n",
      "3\n",
      "5\n",
      "2\n",
      "3\n",
      "2\n",
      "2\n",
      "2\n",
      "2\n",
      "2\n",
      "2\n",
      "Refrigerator\n",
      "3\n",
      "3\n",
      "3\n",
      "4\n",
      "Side\n",
      "2\n",
      "2\n",
      "5\n",
      "2\n",
      "3\n",
      "4\n",
      "4\n",
      "1\n",
      "3\n",
      "5\n",
      "2\n",
      "3\n",
      "2\n",
      "2\n",
      "2\n",
      "3\n",
      "2\n",
      "2\n",
      "Refrigerator\n",
      "2\n",
      "3\n",
      "3\n",
      "4\n",
      "Bottom\n",
      "2\n",
      "3\n",
      "4\n",
      "3\n",
      "5\n",
      "4\n",
      "4\n",
      "1\n",
      "2\n",
      "2\n",
      "3\n",
      "Side\n",
      "4\n",
      "Refrigerator\n",
      "5\n",
      "2\n",
      "2\n",
      "5\n",
      "3\n",
      "3\n",
      "2\n",
      "3\n",
      "2\n",
      "Bottom\n",
      "3\n",
      "2\n",
      "4\n",
      "3\n",
      "5\n",
      "4\n",
      "4\n",
      "2\n",
      "2\n",
      "2\n",
      "3\n",
      "1\n",
      "4\n",
      "Refrigerator\n",
      "5\n",
      "3\n",
      "2\n",
      "5\n",
      "3\n",
      "2\n",
      "2\n",
      "3\n",
      "2\n",
      "3\n",
      "3\n",
      "2\n",
      "4\n",
      "3\n",
      "5\n",
      "4\n",
      "4\n",
      "2\n",
      "2\n",
      "2\n",
      "3\n",
      "1\n",
      "4\n",
      "Refrigerator\n",
      "5\n",
      "3\n",
      "2\n",
      "5\n",
      "3\n",
      "2\n",
      "2\n",
      "3\n",
      "2\n",
      "3\n",
      "2\n",
      "4\n",
      "4\n",
      "3\n",
      "5\n",
      "4\n",
      "4\n",
      "2\n",
      "2\n",
      "2\n",
      "3\n",
      "3\n",
      "4\n",
      "Refrigerator\n",
      "5\n",
      "Bottom\n",
      "2\n",
      "5\n",
      "3\n",
      "Side\n",
      "2\n",
      "3\n",
      "2\n",
      "1\n",
      "3\n",
      "2\n",
      "4\n",
      "3\n",
      "5\n",
      "4\n",
      "4\n",
      "2\n",
      "2\n",
      "2\n",
      "3\n",
      "1\n",
      "4\n",
      "Refrigerator\n",
      "5\n",
      "3\n",
      "2\n",
      "5\n",
      "3\n",
      "2\n",
      "2\n",
      "3\n",
      "2\n",
      "3\n",
      "2\n",
      "2\n",
      "5\n",
      "2\n",
      "3\n",
      "4\n",
      "4\n",
      "1\n",
      "3\n",
      "5\n",
      "2\n",
      "2\n",
      "2\n",
      "2\n",
      "2\n",
      "3\n",
      "2\n",
      "2\n",
      "Refrigerator\n",
      "3\n"
     ]
    }
   ],
   "source": [
    " for i in df['star']:\n",
    "        print(i)"
   ]
  },
  {
   "cell_type": "code",
   "execution_count": 32,
   "id": "d6500c7f",
   "metadata": {},
   "outputs": [],
   "source": [
    "df['star'].value_counts()\n",
    "df['star'].replace('Bottom',np.nan,inplace=True)# it will replace Bottom with nan.\n",
    "df['star'].replace('Top',np.nan,inplace=True)# it will replace top with nan.\n",
    "df['star'].replace('Side',np.nan,inplace=True)# it will replace  side with nan.\n",
    "df['star'].replace('Refrigerator',np.nan,inplace=True)# it will replace Refrigerator with nan\n",
    "df['star'].replace('',np.nan,inplace=True)\n"
   ]
  },
  {
   "cell_type": "code",
   "execution_count": 33,
   "id": "6a457bcd",
   "metadata": {},
   "outputs": [
    {
     "name": "stdout",
     "output_type": "stream",
     "text": [
      "2\n",
      "2\n",
      "5\n",
      "2\n",
      "3\n",
      "4\n",
      "4\n",
      "1\n",
      "3\n",
      "5\n",
      "2\n",
      "3\n",
      "2\n",
      "2\n",
      "2\n",
      "2\n",
      "2\n",
      "2\n",
      "nan\n",
      "3\n",
      "3\n",
      "3\n",
      "4\n",
      "nan\n",
      "2\n",
      "4\n",
      "4\n",
      "3\n",
      "5\n",
      "4\n",
      "4\n",
      "2\n",
      "2\n",
      "2\n",
      "3\n",
      "3\n",
      "4\n",
      "nan\n",
      "5\n",
      "1\n",
      "2\n",
      "5\n",
      "3\n",
      "nan\n",
      "2\n",
      "3\n",
      "2\n",
      "nan\n",
      "2\n",
      "2\n",
      "5\n",
      "2\n",
      "3\n",
      "4\n",
      "4\n",
      "1\n",
      "3\n",
      "5\n",
      "2\n",
      "2\n",
      "2\n",
      "2\n",
      "2\n",
      "3\n",
      "2\n",
      "2\n",
      "nan\n",
      "3\n",
      "3\n",
      "3\n",
      "4\n",
      "nan\n",
      "2\n",
      "4\n",
      "5\n",
      "2\n",
      "3\n",
      "4\n",
      "4\n",
      "2\n",
      "3\n",
      "5\n",
      "2\n",
      "3\n",
      "2\n",
      "2\n",
      "2\n",
      "1\n",
      "2\n",
      "2\n",
      "nan\n",
      "nan\n",
      "3\n",
      "3\n",
      "4\n",
      "nan\n",
      "3\n",
      "2\n",
      "4\n",
      "3\n",
      "5\n",
      "4\n",
      "4\n",
      "2\n",
      "2\n",
      "2\n",
      "3\n",
      "1\n",
      "4\n",
      "nan\n",
      "5\n",
      "3\n",
      "2\n",
      "5\n",
      "3\n",
      "2\n",
      "2\n",
      "3\n",
      "2\n",
      "3\n",
      "3\n",
      "2\n",
      "4\n",
      "3\n",
      "5\n",
      "4\n",
      "4\n",
      "2\n",
      "2\n",
      "2\n",
      "3\n",
      "1\n",
      "4\n",
      "nan\n",
      "5\n",
      "3\n",
      "2\n",
      "5\n",
      "3\n",
      "2\n",
      "2\n",
      "3\n",
      "2\n",
      "3\n",
      "3\n",
      "2\n",
      "4\n",
      "3\n",
      "5\n",
      "4\n",
      "4\n",
      "2\n",
      "2\n",
      "2\n",
      "3\n",
      "1\n",
      "4\n",
      "nan\n",
      "5\n",
      "3\n",
      "2\n",
      "5\n",
      "3\n",
      "2\n",
      "2\n",
      "3\n",
      "2\n",
      "3\n",
      "3\n",
      "2\n",
      "4\n",
      "3\n",
      "5\n",
      "4\n",
      "4\n",
      "2\n",
      "2\n",
      "2\n",
      "3\n",
      "1\n",
      "4\n",
      "nan\n",
      "5\n",
      "3\n",
      "2\n",
      "5\n",
      "3\n",
      "2\n",
      "2\n",
      "3\n",
      "2\n",
      "3\n",
      "3\n",
      "2\n",
      "4\n",
      "3\n",
      "5\n",
      "4\n",
      "4\n",
      "2\n",
      "2\n",
      "2\n",
      "3\n",
      "1\n",
      "4\n",
      "nan\n",
      "5\n",
      "3\n",
      "2\n",
      "5\n",
      "3\n",
      "2\n",
      "2\n",
      "3\n",
      "2\n",
      "3\n",
      "3\n",
      "2\n",
      "4\n",
      "3\n",
      "5\n",
      "4\n",
      "4\n",
      "2\n",
      "2\n",
      "2\n",
      "3\n",
      "1\n",
      "4\n",
      "nan\n",
      "5\n",
      "3\n",
      "2\n",
      "5\n",
      "3\n",
      "2\n",
      "2\n",
      "3\n",
      "2\n",
      "3\n",
      "2\n",
      "4\n",
      "5\n",
      "2\n",
      "3\n",
      "4\n",
      "4\n",
      "2\n",
      "3\n",
      "5\n",
      "2\n",
      "3\n",
      "2\n",
      "2\n",
      "2\n",
      "1\n",
      "2\n",
      "2\n",
      "nan\n",
      "nan\n",
      "3\n",
      "3\n",
      "4\n",
      "nan\n",
      "2\n",
      "2\n",
      "5\n",
      "2\n",
      "3\n",
      "4\n",
      "4\n",
      "1\n",
      "3\n",
      "5\n",
      "2\n",
      "3\n",
      "2\n",
      "2\n",
      "2\n",
      "2\n",
      "2\n",
      "2\n",
      "nan\n",
      "3\n",
      "3\n",
      "3\n",
      "4\n",
      "nan\n",
      "2\n",
      "2\n",
      "5\n",
      "2\n",
      "3\n",
      "4\n",
      "4\n",
      "1\n",
      "3\n",
      "5\n",
      "2\n",
      "3\n",
      "2\n",
      "2\n",
      "2\n",
      "2\n",
      "2\n",
      "2\n",
      "nan\n",
      "3\n",
      "3\n",
      "3\n",
      "4\n",
      "nan\n",
      "2\n",
      "2\n",
      "5\n",
      "2\n",
      "3\n",
      "4\n",
      "4\n",
      "1\n",
      "3\n",
      "5\n",
      "2\n",
      "3\n",
      "2\n",
      "2\n",
      "2\n",
      "2\n",
      "2\n",
      "2\n",
      "nan\n",
      "3\n",
      "3\n",
      "3\n",
      "4\n",
      "nan\n",
      "2\n",
      "2\n",
      "5\n",
      "2\n",
      "3\n",
      "4\n",
      "4\n",
      "1\n",
      "3\n",
      "5\n",
      "2\n",
      "3\n",
      "2\n",
      "2\n",
      "2\n",
      "3\n",
      "2\n",
      "2\n",
      "nan\n",
      "2\n",
      "3\n",
      "3\n",
      "4\n",
      "nan\n",
      "2\n",
      "3\n",
      "4\n",
      "3\n",
      "5\n",
      "4\n",
      "4\n",
      "1\n",
      "2\n",
      "2\n",
      "3\n",
      "nan\n",
      "4\n",
      "nan\n",
      "5\n",
      "2\n",
      "2\n",
      "5\n",
      "3\n",
      "3\n",
      "2\n",
      "3\n",
      "2\n",
      "nan\n",
      "3\n",
      "2\n",
      "4\n",
      "3\n",
      "5\n",
      "4\n",
      "4\n",
      "2\n",
      "2\n",
      "2\n",
      "3\n",
      "1\n",
      "4\n",
      "nan\n",
      "5\n",
      "3\n",
      "2\n",
      "5\n",
      "3\n",
      "2\n",
      "2\n",
      "3\n",
      "2\n",
      "3\n",
      "3\n",
      "2\n",
      "4\n",
      "3\n",
      "5\n",
      "4\n",
      "4\n",
      "2\n",
      "2\n",
      "2\n",
      "3\n",
      "1\n",
      "4\n",
      "nan\n",
      "5\n",
      "3\n",
      "2\n",
      "5\n",
      "3\n",
      "2\n",
      "2\n",
      "3\n",
      "2\n",
      "3\n",
      "2\n",
      "4\n",
      "4\n",
      "3\n",
      "5\n",
      "4\n",
      "4\n",
      "2\n",
      "2\n",
      "2\n",
      "3\n",
      "3\n",
      "4\n",
      "nan\n",
      "5\n",
      "nan\n",
      "2\n",
      "5\n",
      "3\n",
      "nan\n",
      "2\n",
      "3\n",
      "2\n",
      "1\n",
      "3\n",
      "2\n",
      "4\n",
      "3\n",
      "5\n",
      "4\n",
      "4\n",
      "2\n",
      "2\n",
      "2\n",
      "3\n",
      "1\n",
      "4\n",
      "nan\n",
      "5\n",
      "3\n",
      "2\n",
      "5\n",
      "3\n",
      "2\n",
      "2\n",
      "3\n",
      "2\n",
      "3\n",
      "2\n",
      "2\n",
      "5\n",
      "2\n",
      "3\n",
      "4\n",
      "4\n",
      "1\n",
      "3\n",
      "5\n",
      "2\n",
      "2\n",
      "2\n",
      "2\n",
      "2\n",
      "3\n",
      "2\n",
      "2\n",
      "nan\n",
      "3\n"
     ]
    }
   ],
   "source": [
    "for i in df['star']:\n",
    "        print(i)"
   ]
  },
  {
   "cell_type": "code",
   "execution_count": 34,
   "id": "f0766ee6",
   "metadata": {},
   "outputs": [],
   "source": [
    "df['star']= df['star'].astype(float) \n",
    "nlmean = df['star'].median() \n",
    "df['star'].fillna(nlmean,inplace = True)"
   ]
  },
  {
   "cell_type": "code",
   "execution_count": 35,
   "id": "fec00e41",
   "metadata": {},
   "outputs": [
    {
     "data": {
      "text/plain": [
       "0      2.0\n",
       "1      2.0\n",
       "2      5.0\n",
       "3      2.0\n",
       "4      3.0\n",
       "      ... \n",
       "495    3.0\n",
       "496    2.0\n",
       "497    2.0\n",
       "498    3.0\n",
       "499    3.0\n",
       "Name: star, Length: 500, dtype: float64"
      ]
     },
     "execution_count": 35,
     "metadata": {},
     "output_type": "execute_result"
    }
   ],
   "source": [
    "df['star']"
   ]
  },
  {
   "cell_type": "code",
   "execution_count": null,
   "id": "5ea4d789",
   "metadata": {},
   "outputs": [],
   "source": []
  },
  {
   "cell_type": "code",
   "execution_count": 36,
   "id": "ab962431",
   "metadata": {},
   "outputs": [],
   "source": [
    "df['litters']= df['litters'].astype(int)"
   ]
  },
  {
   "cell_type": "code",
   "execution_count": null,
   "id": "c4f1747e",
   "metadata": {},
   "outputs": [],
   "source": []
  },
  {
   "cell_type": "code",
   "execution_count": 37,
   "id": "fcf008eb",
   "metadata": {
    "scrolled": true
   },
   "outputs": [
    {
     "name": "stdout",
     "output_type": "stream",
     "text": [
      "<class 'pandas.core.frame.DataFrame'>\n",
      "RangeIndex: 500 entries, 0 to 499\n",
      "Data columns (total 7 columns):\n",
      " #   Column         Non-Null Count  Dtype  \n",
      "---  ------         --------------  -----  \n",
      " 0   Rating         500 non-null    float64\n",
      " 1   Price          500 non-null    int64  \n",
      " 2   Orginal_price  500 non-null    int64  \n",
      " 3   Brand          500 non-null    object \n",
      " 4   litters        500 non-null    int32  \n",
      " 5   Doors          500 non-null    object \n",
      " 6   star           500 non-null    float64\n",
      "dtypes: float64(2), int32(1), int64(2), object(2)\n",
      "memory usage: 25.5+ KB\n"
     ]
    }
   ],
   "source": [
    "df.info()# it retuens the data frame infromation."
   ]
  },
  {
   "cell_type": "code",
   "execution_count": 38,
   "id": "588c983a",
   "metadata": {},
   "outputs": [
    {
     "data": {
      "text/html": [
       "<div>\n",
       "<style scoped>\n",
       "    .dataframe tbody tr th:only-of-type {\n",
       "        vertical-align: middle;\n",
       "    }\n",
       "\n",
       "    .dataframe tbody tr th {\n",
       "        vertical-align: top;\n",
       "    }\n",
       "\n",
       "    .dataframe thead th {\n",
       "        text-align: right;\n",
       "    }\n",
       "</style>\n",
       "<table border=\"1\" class=\"dataframe\">\n",
       "  <thead>\n",
       "    <tr style=\"text-align: right;\">\n",
       "      <th></th>\n",
       "      <th>Rating</th>\n",
       "      <th>Price</th>\n",
       "      <th>Orginal_price</th>\n",
       "      <th>Brand</th>\n",
       "      <th>litters</th>\n",
       "      <th>Doors</th>\n",
       "      <th>star</th>\n",
       "    </tr>\n",
       "  </thead>\n",
       "  <tbody>\n",
       "    <tr>\n",
       "      <th>0</th>\n",
       "      <td>4.2</td>\n",
       "      <td>19490</td>\n",
       "      <td>21900</td>\n",
       "      <td>Godrej</td>\n",
       "      <td>236</td>\n",
       "      <td>Double</td>\n",
       "      <td>2.0</td>\n",
       "    </tr>\n",
       "    <tr>\n",
       "      <th>1</th>\n",
       "      <td>4.3</td>\n",
       "      <td>26990</td>\n",
       "      <td>28990</td>\n",
       "      <td>SAMSUNG</td>\n",
       "      <td>253</td>\n",
       "      <td>Double</td>\n",
       "      <td>2.0</td>\n",
       "    </tr>\n",
       "    <tr>\n",
       "      <th>2</th>\n",
       "      <td>4.5</td>\n",
       "      <td>17590</td>\n",
       "      <td>21990</td>\n",
       "      <td>SAMSUNG</td>\n",
       "      <td>198</td>\n",
       "      <td>Single</td>\n",
       "      <td>5.0</td>\n",
       "    </tr>\n",
       "    <tr>\n",
       "      <th>3</th>\n",
       "      <td>4.4</td>\n",
       "      <td>12990</td>\n",
       "      <td>14990</td>\n",
       "      <td>SAMSUNG</td>\n",
       "      <td>192</td>\n",
       "      <td>Single</td>\n",
       "      <td>2.0</td>\n",
       "    </tr>\n",
       "    <tr>\n",
       "      <th>4</th>\n",
       "      <td>4.3</td>\n",
       "      <td>16890</td>\n",
       "      <td>18990</td>\n",
       "      <td>SAMSUNG</td>\n",
       "      <td>230</td>\n",
       "      <td>Single</td>\n",
       "      <td>3.0</td>\n",
       "    </tr>\n",
       "    <tr>\n",
       "      <th>...</th>\n",
       "      <td>...</td>\n",
       "      <td>...</td>\n",
       "      <td>...</td>\n",
       "      <td>...</td>\n",
       "      <td>...</td>\n",
       "      <td>...</td>\n",
       "      <td>...</td>\n",
       "    </tr>\n",
       "    <tr>\n",
       "      <th>495</th>\n",
       "      <td>4.3</td>\n",
       "      <td>15690</td>\n",
       "      <td>18990</td>\n",
       "      <td>SAMSUNG</td>\n",
       "      <td>192</td>\n",
       "      <td>Single</td>\n",
       "      <td>3.0</td>\n",
       "    </tr>\n",
       "    <tr>\n",
       "      <th>496</th>\n",
       "      <td>5.0</td>\n",
       "      <td>20990</td>\n",
       "      <td>29500</td>\n",
       "      <td>Whirlpool</td>\n",
       "      <td>245</td>\n",
       "      <td>Double</td>\n",
       "      <td>2.0</td>\n",
       "    </tr>\n",
       "    <tr>\n",
       "      <th>497</th>\n",
       "      <td>5.0</td>\n",
       "      <td>19280</td>\n",
       "      <td>21900</td>\n",
       "      <td>Godrej</td>\n",
       "      <td>236</td>\n",
       "      <td>Double</td>\n",
       "      <td>2.0</td>\n",
       "    </tr>\n",
       "    <tr>\n",
       "      <th>498</th>\n",
       "      <td>4.3</td>\n",
       "      <td>25490</td>\n",
       "      <td>33100</td>\n",
       "      <td>Whirlpool</td>\n",
       "      <td>240</td>\n",
       "      <td>Triple</td>\n",
       "      <td>3.0</td>\n",
       "    </tr>\n",
       "    <tr>\n",
       "      <th>499</th>\n",
       "      <td>5.0</td>\n",
       "      <td>20390</td>\n",
       "      <td>25990</td>\n",
       "      <td>SAMSUNG</td>\n",
       "      <td>255</td>\n",
       "      <td>Single</td>\n",
       "      <td>3.0</td>\n",
       "    </tr>\n",
       "  </tbody>\n",
       "</table>\n",
       "<p>500 rows × 7 columns</p>\n",
       "</div>"
      ],
      "text/plain": [
       "     Rating  Price  Orginal_price      Brand  litters   Doors  star\n",
       "0       4.2  19490          21900     Godrej      236  Double   2.0\n",
       "1       4.3  26990          28990    SAMSUNG      253  Double   2.0\n",
       "2       4.5  17590          21990    SAMSUNG      198  Single   5.0\n",
       "3       4.4  12990          14990    SAMSUNG      192  Single   2.0\n",
       "4       4.3  16890          18990    SAMSUNG      230  Single   3.0\n",
       "..      ...    ...            ...        ...      ...     ...   ...\n",
       "495     4.3  15690          18990    SAMSUNG      192  Single   3.0\n",
       "496     5.0  20990          29500  Whirlpool      245  Double   2.0\n",
       "497     5.0  19280          21900     Godrej      236  Double   2.0\n",
       "498     4.3  25490          33100  Whirlpool      240  Triple   3.0\n",
       "499     5.0  20390          25990    SAMSUNG      255  Single   3.0\n",
       "\n",
       "[500 rows x 7 columns]"
      ]
     },
     "execution_count": 38,
     "metadata": {},
     "output_type": "execute_result"
    }
   ],
   "source": [
    "df"
   ]
  },
  {
   "cell_type": "code",
   "execution_count": 39,
   "id": "7c7e5298",
   "metadata": {},
   "outputs": [
    {
     "data": {
      "text/plain": [
       "Rating           0\n",
       "Price            0\n",
       "Orginal_price    0\n",
       "Brand            0\n",
       "litters          0\n",
       "Doors            0\n",
       "star             0\n",
       "dtype: int64"
      ]
     },
     "execution_count": 39,
     "metadata": {},
     "output_type": "execute_result"
    }
   ],
   "source": [
    "df.isnull().sum()# it retuns the is null values in the data frame."
   ]
  },
  {
   "cell_type": "code",
   "execution_count": 40,
   "id": "53f4ff1b",
   "metadata": {},
   "outputs": [
    {
     "data": {
      "text/plain": [
       "Rating           0\n",
       "Price            0\n",
       "Orginal_price    0\n",
       "Brand            0\n",
       "litters          0\n",
       "Doors            0\n",
       "star             0\n",
       "dtype: int64"
      ]
     },
     "execution_count": 40,
     "metadata": {},
     "output_type": "execute_result"
    }
   ],
   "source": [
    "df.isna().sum() # it retuns the isna values ."
   ]
  },
  {
   "cell_type": "markdown",
   "id": "77e623c4",
   "metadata": {},
   "source": [
    "# Data understanding"
   ]
  },
  {
   "cell_type": "code",
   "execution_count": 41,
   "id": "6a3f3abf",
   "metadata": {},
   "outputs": [],
   "source": [
    "# return of dataframe  or print count of Refrigerators company_name \n",
    "# groupby\n",
    "df1=df.groupby('Brand')['Brand'].count().to_frame()\n",
    "# this groupby functions hlep to understand the data and Easy to analysis the data"
   ]
  },
  {
   "cell_type": "code",
   "execution_count": 42,
   "id": "5eb405d6",
   "metadata": {},
   "outputs": [
    {
     "data": {
      "text/html": [
       "<div>\n",
       "<style scoped>\n",
       "    .dataframe tbody tr th:only-of-type {\n",
       "        vertical-align: middle;\n",
       "    }\n",
       "\n",
       "    .dataframe tbody tr th {\n",
       "        vertical-align: top;\n",
       "    }\n",
       "\n",
       "    .dataframe thead th {\n",
       "        text-align: right;\n",
       "    }\n",
       "</style>\n",
       "<table border=\"1\" class=\"dataframe\">\n",
       "  <thead>\n",
       "    <tr style=\"text-align: right;\">\n",
       "      <th></th>\n",
       "      <th>Brand</th>\n",
       "    </tr>\n",
       "    <tr>\n",
       "      <th>Brand</th>\n",
       "      <th></th>\n",
       "    </tr>\n",
       "  </thead>\n",
       "  <tbody>\n",
       "    <tr>\n",
       "      <th>Godrej</th>\n",
       "      <td>45</td>\n",
       "    </tr>\n",
       "    <tr>\n",
       "      <th>Haier</th>\n",
       "      <td>12</td>\n",
       "    </tr>\n",
       "    <tr>\n",
       "      <th>LG</th>\n",
       "      <td>95</td>\n",
       "    </tr>\n",
       "    <tr>\n",
       "      <th>SAMSUNG</th>\n",
       "      <td>278</td>\n",
       "    </tr>\n",
       "    <tr>\n",
       "      <th>Whirlpool</th>\n",
       "      <td>70</td>\n",
       "    </tr>\n",
       "  </tbody>\n",
       "</table>\n",
       "</div>"
      ],
      "text/plain": [
       "           Brand\n",
       "Brand           \n",
       "Godrej        45\n",
       "Haier         12\n",
       "LG            95\n",
       "SAMSUNG      278\n",
       "Whirlpool     70"
      ]
     },
     "execution_count": 42,
     "metadata": {},
     "output_type": "execute_result"
    }
   ],
   "source": [
    "df1"
   ]
  },
  {
   "cell_type": "code",
   "execution_count": 43,
   "id": "04c71176",
   "metadata": {},
   "outputs": [
    {
     "data": {
      "text/html": [
       "<div>\n",
       "<style scoped>\n",
       "    .dataframe tbody tr th:only-of-type {\n",
       "        vertical-align: middle;\n",
       "    }\n",
       "\n",
       "    .dataframe tbody tr th {\n",
       "        vertical-align: top;\n",
       "    }\n",
       "\n",
       "    .dataframe thead th {\n",
       "        text-align: right;\n",
       "    }\n",
       "</style>\n",
       "<table border=\"1\" class=\"dataframe\">\n",
       "  <thead>\n",
       "    <tr style=\"text-align: right;\">\n",
       "      <th></th>\n",
       "      <th>Orginal_price</th>\n",
       "      <th>Price</th>\n",
       "      <th>Rating</th>\n",
       "      <th>litters</th>\n",
       "      <th>star</th>\n",
       "    </tr>\n",
       "    <tr>\n",
       "      <th>Brand</th>\n",
       "      <th></th>\n",
       "      <th></th>\n",
       "      <th></th>\n",
       "      <th></th>\n",
       "      <th></th>\n",
       "    </tr>\n",
       "  </thead>\n",
       "  <tbody>\n",
       "    <tr>\n",
       "      <th>Godrej</th>\n",
       "      <td>20560.000000</td>\n",
       "      <td>17776.666667</td>\n",
       "      <td>4.408889</td>\n",
       "      <td>221.466667</td>\n",
       "      <td>2.400000</td>\n",
       "    </tr>\n",
       "    <tr>\n",
       "      <th>Haier</th>\n",
       "      <td>14400.000000</td>\n",
       "      <td>10990.000000</td>\n",
       "      <td>4.491667</td>\n",
       "      <td>170.000000</td>\n",
       "      <td>2.000000</td>\n",
       "    </tr>\n",
       "    <tr>\n",
       "      <th>LG</th>\n",
       "      <td>19807.894737</td>\n",
       "      <td>16504.231579</td>\n",
       "      <td>4.440000</td>\n",
       "      <td>190.000000</td>\n",
       "      <td>4.347368</td>\n",
       "    </tr>\n",
       "    <tr>\n",
       "      <th>SAMSUNG</th>\n",
       "      <td>29566.079137</td>\n",
       "      <td>25136.079137</td>\n",
       "      <td>4.444604</td>\n",
       "      <td>271.859712</td>\n",
       "      <td>2.622302</td>\n",
       "    </tr>\n",
       "    <tr>\n",
       "      <th>Whirlpool</th>\n",
       "      <td>29045.714286</td>\n",
       "      <td>22525.714286</td>\n",
       "      <td>4.448571</td>\n",
       "      <td>242.928571</td>\n",
       "      <td>2.700000</td>\n",
       "    </tr>\n",
       "  </tbody>\n",
       "</table>\n",
       "</div>"
      ],
      "text/plain": [
       "           Orginal_price         Price    Rating     litters      star\n",
       "Brand                                                                 \n",
       "Godrej      20560.000000  17776.666667  4.408889  221.466667  2.400000\n",
       "Haier       14400.000000  10990.000000  4.491667  170.000000  2.000000\n",
       "LG          19807.894737  16504.231579  4.440000  190.000000  4.347368\n",
       "SAMSUNG     29566.079137  25136.079137  4.444604  271.859712  2.622302\n",
       "Whirlpool   29045.714286  22525.714286  4.448571  242.928571  2.700000"
      ]
     },
     "execution_count": 43,
     "metadata": {},
     "output_type": "execute_result"
    }
   ],
   "source": [
    "brand_wise_details=pd.pivot_table(df,index=['Brand'])\n",
    "brand_wise_details"
   ]
  },
  {
   "cell_type": "markdown",
   "id": "afe81bed",
   "metadata": {},
   "source": [
    "# Data analysis"
   ]
  },
  {
   "cell_type": "code",
   "execution_count": 44,
   "id": "33ea74fc",
   "metadata": {},
   "outputs": [],
   "source": [
    "#Data analysis \n",
    "# we analyze data with the help of Statstical tooles and\n",
    "# discribe function"
   ]
  },
  {
   "cell_type": "code",
   "execution_count": 45,
   "id": "5be0fbdb",
   "metadata": {},
   "outputs": [
    {
     "data": {
      "text/plain": [
       "count      500.00000\n",
       "mean     26464.64000\n",
       "std      16882.06455\n",
       "min      14400.00000\n",
       "25%      18990.00000\n",
       "50%      21900.00000\n",
       "75%      28990.00000\n",
       "max      89590.00000\n",
       "Name: Orginal_price, dtype: float64"
      ]
     },
     "execution_count": 45,
     "metadata": {},
     "output_type": "execute_result"
    }
   ],
   "source": [
    "df['Orginal_price'].describe()"
   ]
  },
  {
   "cell_type": "code",
   "execution_count": 46,
   "id": "a6e36eb2",
   "metadata": {},
   "outputs": [
    {
     "data": {
      "text/plain": [
       "count         500\n",
       "unique          5\n",
       "top       SAMSUNG\n",
       "freq          278\n",
       "Name: Brand, dtype: object"
      ]
     },
     "execution_count": 46,
     "metadata": {},
     "output_type": "execute_result"
    }
   ],
   "source": [
    "df['Brand'].describe()"
   ]
  },
  {
   "cell_type": "code",
   "execution_count": 47,
   "id": "87b0ad15",
   "metadata": {},
   "outputs": [
    {
     "data": {
      "text/plain": [
       "count      500.000000\n",
       "mean     22128.724000\n",
       "std      14523.902807\n",
       "min      10990.000000\n",
       "25%      15690.000000\n",
       "50%      17590.000000\n",
       "75%      22300.000000\n",
       "max      79990.000000\n",
       "Name: Price, dtype: float64"
      ]
     },
     "execution_count": 47,
     "metadata": {},
     "output_type": "execute_result"
    }
   ],
   "source": [
    "df['Price'].describe()"
   ]
  },
  {
   "cell_type": "code",
   "execution_count": 48,
   "id": "b9655ad6",
   "metadata": {},
   "outputs": [
    {
     "data": {
      "text/plain": [
       "count    500.000000\n",
       "mean     245.276000\n",
       "std      111.543569\n",
       "min      170.000000\n",
       "25%      191.500000\n",
       "50%      230.000000\n",
       "75%      253.000000\n",
       "max      700.000000\n",
       "Name: litters, dtype: float64"
      ]
     },
     "execution_count": 48,
     "metadata": {},
     "output_type": "execute_result"
    }
   ],
   "source": [
    "df['litters'].describe()"
   ]
  },
  {
   "cell_type": "code",
   "execution_count": 49,
   "id": "3141f4c8",
   "metadata": {},
   "outputs": [
    {
     "data": {
      "text/plain": [
       "count    500.000000\n",
       "mean       2.926000\n",
       "std        1.055819\n",
       "min        1.000000\n",
       "25%        2.000000\n",
       "50%        3.000000\n",
       "75%        4.000000\n",
       "max        5.000000\n",
       "Name: star, dtype: float64"
      ]
     },
     "execution_count": 49,
     "metadata": {},
     "output_type": "execute_result"
    }
   ],
   "source": [
    "df['star'].describe()"
   ]
  },
  {
   "cell_type": "code",
   "execution_count": 50,
   "id": "6703032b",
   "metadata": {},
   "outputs": [
    {
     "data": {
      "text/plain": [
       "Rating                                                      2221.1\n",
       "Price                                                     11064362\n",
       "Orginal_price                                             13232320\n",
       "Brand            GodrejSAMSUNGSAMSUNGSAMSUNGSAMSUNGLGLGSAMSUNGS...\n",
       "litters                                                     122638\n",
       "Doors            DoubleDoubleSingleSingleSingleSingleSingleDoub...\n",
       "star                                                        1463.0\n",
       "dtype: object"
      ]
     },
     "execution_count": 50,
     "metadata": {},
     "output_type": "execute_result"
    }
   ],
   "source": [
    "df.sum() # it retuns entrie data frame sum"
   ]
  },
  {
   "cell_type": "code",
   "execution_count": 51,
   "id": "fdbbf778",
   "metadata": {},
   "outputs": [
    {
     "data": {
      "text/plain": [
       "Rating               4.4422\n",
       "Price            22128.7240\n",
       "Orginal_price    26464.6400\n",
       "litters            245.2760\n",
       "star                 2.9260\n",
       "dtype: float64"
      ]
     },
     "execution_count": 51,
     "metadata": {},
     "output_type": "execute_result"
    }
   ],
   "source": [
    "df.mean()# mean is function it will retuns avg value of the data frame"
   ]
  },
  {
   "cell_type": "code",
   "execution_count": 52,
   "id": "30fa0e62",
   "metadata": {},
   "outputs": [
    {
     "data": {
      "text/plain": [
       "Rating               4.4\n",
       "Price            17590.0\n",
       "Orginal_price    21900.0\n",
       "litters            230.0\n",
       "star                 3.0\n",
       "dtype: float64"
      ]
     },
     "execution_count": 52,
     "metadata": {},
     "output_type": "execute_result"
    }
   ],
   "source": [
    "df.median()# median is a statstical function in python it will reuns middle valie of the data frame"
   ]
  },
  {
   "cell_type": "code",
   "execution_count": 53,
   "id": "b1f8a720",
   "metadata": {},
   "outputs": [
    {
     "data": {
      "text/html": [
       "<div>\n",
       "<style scoped>\n",
       "    .dataframe tbody tr th:only-of-type {\n",
       "        vertical-align: middle;\n",
       "    }\n",
       "\n",
       "    .dataframe tbody tr th {\n",
       "        vertical-align: top;\n",
       "    }\n",
       "\n",
       "    .dataframe thead th {\n",
       "        text-align: right;\n",
       "    }\n",
       "</style>\n",
       "<table border=\"1\" class=\"dataframe\">\n",
       "  <thead>\n",
       "    <tr style=\"text-align: right;\">\n",
       "      <th></th>\n",
       "      <th>Rating</th>\n",
       "      <th>Price</th>\n",
       "      <th>Orginal_price</th>\n",
       "      <th>litters</th>\n",
       "      <th>star</th>\n",
       "    </tr>\n",
       "  </thead>\n",
       "  <tbody>\n",
       "    <tr>\n",
       "      <th>count</th>\n",
       "      <td>500.000000</td>\n",
       "      <td>500.000000</td>\n",
       "      <td>500.00000</td>\n",
       "      <td>500.000000</td>\n",
       "      <td>500.000000</td>\n",
       "    </tr>\n",
       "    <tr>\n",
       "      <th>mean</th>\n",
       "      <td>4.442200</td>\n",
       "      <td>22128.724000</td>\n",
       "      <td>26464.64000</td>\n",
       "      <td>245.276000</td>\n",
       "      <td>2.926000</td>\n",
       "    </tr>\n",
       "    <tr>\n",
       "      <th>std</th>\n",
       "      <td>0.281634</td>\n",
       "      <td>14523.902807</td>\n",
       "      <td>16882.06455</td>\n",
       "      <td>111.543569</td>\n",
       "      <td>1.055819</td>\n",
       "    </tr>\n",
       "    <tr>\n",
       "      <th>min</th>\n",
       "      <td>4.000000</td>\n",
       "      <td>10990.000000</td>\n",
       "      <td>14400.00000</td>\n",
       "      <td>170.000000</td>\n",
       "      <td>1.000000</td>\n",
       "    </tr>\n",
       "    <tr>\n",
       "      <th>25%</th>\n",
       "      <td>4.300000</td>\n",
       "      <td>15690.000000</td>\n",
       "      <td>18990.00000</td>\n",
       "      <td>191.500000</td>\n",
       "      <td>2.000000</td>\n",
       "    </tr>\n",
       "    <tr>\n",
       "      <th>50%</th>\n",
       "      <td>4.400000</td>\n",
       "      <td>17590.000000</td>\n",
       "      <td>21900.00000</td>\n",
       "      <td>230.000000</td>\n",
       "      <td>3.000000</td>\n",
       "    </tr>\n",
       "    <tr>\n",
       "      <th>75%</th>\n",
       "      <td>4.400000</td>\n",
       "      <td>22300.000000</td>\n",
       "      <td>28990.00000</td>\n",
       "      <td>253.000000</td>\n",
       "      <td>4.000000</td>\n",
       "    </tr>\n",
       "    <tr>\n",
       "      <th>max</th>\n",
       "      <td>5.000000</td>\n",
       "      <td>79990.000000</td>\n",
       "      <td>89590.00000</td>\n",
       "      <td>700.000000</td>\n",
       "      <td>5.000000</td>\n",
       "    </tr>\n",
       "  </tbody>\n",
       "</table>\n",
       "</div>"
      ],
      "text/plain": [
       "           Rating         Price  Orginal_price     litters        star\n",
       "count  500.000000    500.000000      500.00000  500.000000  500.000000\n",
       "mean     4.442200  22128.724000    26464.64000  245.276000    2.926000\n",
       "std      0.281634  14523.902807    16882.06455  111.543569    1.055819\n",
       "min      4.000000  10990.000000    14400.00000  170.000000    1.000000\n",
       "25%      4.300000  15690.000000    18990.00000  191.500000    2.000000\n",
       "50%      4.400000  17590.000000    21900.00000  230.000000    3.000000\n",
       "75%      4.400000  22300.000000    28990.00000  253.000000    4.000000\n",
       "max      5.000000  79990.000000    89590.00000  700.000000    5.000000"
      ]
     },
     "execution_count": 53,
     "metadata": {},
     "output_type": "execute_result"
    }
   ],
   "source": [
    "df.describe() # describe is  a functions it will returns entrie data frame calculations  , it will retuns\n",
    "# count\n",
    "#mean \n",
    "#std\n",
    "#min\n",
    "#1qt(quartile)\n",
    "#2qt(quartile)\n",
    "#3qt(quartile)\n",
    "#max"
   ]
  },
  {
   "cell_type": "markdown",
   "id": "07f71031",
   "metadata": {},
   "source": [
    "# Data visualization"
   ]
  },
  {
   "cell_type": "code",
   "execution_count": 54,
   "id": "b7012a6b",
   "metadata": {},
   "outputs": [],
   "source": [
    "# Data visualization is the proocess of understanding the data in more detail using some plots and graphs"
   ]
  },
  {
   "cell_type": "markdown",
   "id": "6a14c8a3",
   "metadata": {},
   "source": [
    "# Univeriate Analysis"
   ]
  },
  {
   "cell_type": "code",
   "execution_count": 55,
   "id": "cca54c79",
   "metadata": {},
   "outputs": [],
   "source": [
    "#Univeriate analysis explore each variable  in a data set, separately"
   ]
  },
  {
   "cell_type": "raw",
   "id": "9d70a4b2",
   "metadata": {},
   "source": []
  },
  {
   "cell_type": "markdown",
   "id": "dbfffc25",
   "metadata": {},
   "source": [
    "# Pie plot for Rating column"
   ]
  },
  {
   "cell_type": "code",
   "execution_count": 56,
   "id": "161a098b",
   "metadata": {},
   "outputs": [
    {
     "data": {
      "image/png": "[encoded data removed]",
      "text/plain": [
       "<Figure size 576x360 with 1 Axes>"
      ]
     },
     "metadata": {},
     "output_type": "display_data"
    }
   ],
   "source": [
    "plt.figure(figsize=(8,5))\n",
    "plt.pie(df['Rating'].value_counts(),labels=list(df['Rating'].value_counts().index));"
   ]
  },
  {
   "cell_type": "code",
   "execution_count": 57,
   "id": "bf68d0fb",
   "metadata": {},
   "outputs": [],
   "source": [
    "# interpretation:This pie plot shows the Refrigerators Rating"
   ]
  },
  {
   "cell_type": "markdown",
   "id": "0a36fc5a",
   "metadata": {},
   "source": [
    "# Histogram for Price column"
   ]
  },
  {
   "cell_type": "code",
   "execution_count": 58,
   "id": "9e2b26cc",
   "metadata": {},
   "outputs": [
    {
     "data": {
      "image/png": "[encoded data removed]",
      "text/plain": [
       "<Figure size 576x360 with 1 Axes>"
      ]
     },
     "metadata": {
      "needs_background": "light"
     },
     "output_type": "display_data"
    }
   ],
   "source": [
    "plt.figure(figsize=(8,5))\n",
    "plt.hist(df['Price'],color='r',edgecolor='k');"
   ]
  },
  {
   "cell_type": "code",
   "execution_count": 59,
   "id": "47715f59",
   "metadata": {},
   "outputs": [],
   "source": [
    "#interpretation: This hisplot shows the Prices of refrigertors"
   ]
  },
  {
   "cell_type": "markdown",
   "id": "5762b174",
   "metadata": {},
   "source": [
    "# Box plot for Price"
   ]
  },
  {
   "cell_type": "code",
   "execution_count": 60,
   "id": "3acd5a78",
   "metadata": {},
   "outputs": [
    {
     "data": {
      "image/png": "[encoded data removed]",
      "text/plain": [
       "<Figure size 360x576 with 1 Axes>"
      ]
     },
     "metadata": {
      "needs_background": "light"
     },
     "output_type": "display_data"
    }
   ],
   "source": [
    "plt.figure(figsize=(5,8))\n",
    "df['Price'].describe()\n",
    "ax=df['Price'].plot.box(fontsize=15)\n",
    "plt.show()"
   ]
  },
  {
   "cell_type": "code",
   "execution_count": 61,
   "id": "8d895986",
   "metadata": {},
   "outputs": [],
   "source": [
    "#interpretation: This boxplot shows  price describe()."
   ]
  },
  {
   "cell_type": "markdown",
   "id": "e5be4c89",
   "metadata": {},
   "source": [
    "# Countplot  for Rating"
   ]
  },
  {
   "cell_type": "code",
   "execution_count": 65,
   "id": "5f794991",
   "metadata": {},
   "outputs": [
    {
     "data": {
      "image/png": "[encoded data removed]",
      "text/plain": [
       "<Figure size 576x360 with 1 Axes>"
      ]
     },
     "metadata": {
      "needs_background": "light"
     },
     "output_type": "display_data"
    }
   ],
   "source": [
    "plt.figure(figsize=(8,5))\n",
    "sns.countplot(x='Rating',data=df)\n",
    "plt.title('countplot')\n",
    "plt.show()"
   ]
  },
  {
   "cell_type": "code",
   "execution_count": 66,
   "id": "3b7cb91d",
   "metadata": {},
   "outputs": [],
   "source": [
    "#interpretation:This countplot shows the rating count for the refrigerstor"
   ]
  },
  {
   "cell_type": "code",
   "execution_count": 67,
   "id": "c48304c8",
   "metadata": {},
   "outputs": [
    {
     "data": {
      "image/png": "[encoded data removed]",
      "text/plain": [
       "<Figure size 576x360 with 1 Axes>"
      ]
     },
     "metadata": {
      "needs_background": "light"
     },
     "output_type": "display_data"
    }
   ],
   "source": [
    "plt.figure(figsize=(8,5))\n",
    "sns.countplot(x='litters',data=df)\n",
    "plt.title('countplot')\n",
    "plt.show()"
   ]
  },
  {
   "cell_type": "code",
   "execution_count": 68,
   "id": "f86870e3",
   "metadata": {},
   "outputs": [],
   "source": [
    "#interpretation: this count plot show the refrigerators litters count in the dataframe"
   ]
  },
  {
   "cell_type": "code",
   "execution_count": 71,
   "id": "542a8d4b",
   "metadata": {},
   "outputs": [
    {
     "data": {
      "image/png": "[encoded data removed]",
      "text/plain": [
       "<Figure size 360x360 with 1 Axes>"
      ]
     },
     "metadata": {
      "needs_background": "light"
     },
     "output_type": "display_data"
    }
   ],
   "source": [
    "plt.figure(figsize=(5,5))\n",
    "sns.countplot(x='star',data=df)\n",
    "plt.title('countplot')\n",
    "plt.show()"
   ]
  },
  {
   "cell_type": "code",
   "execution_count": null,
   "id": "16b0c995",
   "metadata": {},
   "outputs": [],
   "source": [
    "#interpretation: this count plot shows the star count in the dataframe"
   ]
  },
  {
   "cell_type": "code",
   "execution_count": 73,
   "id": "01fd59f6",
   "metadata": {},
   "outputs": [
    {
     "data": {
      "image/png": "[encoded data removed]",
      "text/plain": [
       "<Figure size 1440x360 with 1 Axes>"
      ]
     },
     "metadata": {
      "needs_background": "light"
     },
     "output_type": "display_data"
    }
   ],
   "source": [
    "plt.figure(figsize=(20,5))\n",
    "sns.countplot(x='Price',data=df)\n",
    "plt.title('countplot')\n",
    "plt.show()"
   ]
  },
  {
   "cell_type": "code",
   "execution_count": 74,
   "id": "29c16563",
   "metadata": {},
   "outputs": [],
   "source": [
    "#interpretation:this count plot shows "
   ]
  },
  {
   "cell_type": "markdown",
   "id": "a6db2be0",
   "metadata": {},
   "source": [
    "# Distplot for Rating"
   ]
  },
  {
   "cell_type": "code",
   "execution_count": 76,
   "id": "3cc51b3c",
   "metadata": {},
   "outputs": [
    {
     "name": "stderr",
     "output_type": "stream",
     "text": [
      "C:\\Users\\sathish\\anaconda3\\lib\\site-packages\\seaborn\\distributions.py:2557: FutureWarning: `distplot` is a deprecated function and will be removed in a future version. Please adapt your code to use either `displot` (a figure-level function with similar flexibility) or `histplot` (an axes-level function for histograms).\n",
      "  warnings.warn(msg, FutureWarning)\n"
     ]
    },
    {
     "data": {
      "image/png": "[encoded data removed]",
      "text/plain": [
       "<Figure size 576x360 with 1 Axes>"
      ]
     },
     "metadata": {
      "needs_background": "light"
     },
     "output_type": "display_data"
    }
   ],
   "source": [
    "plt.figure(figsize=(8,5))\n",
    "sns.distplot(df['Rating'])\n",
    "plt.title('Distplot')\n",
    "plt.show()"
   ]
  },
  {
   "cell_type": "code",
   "execution_count": 77,
   "id": "478b6e5e",
   "metadata": {},
   "outputs": [],
   "source": [
    "#interpretation:this distplot shows the Rating of the dataframe "
   ]
  },
  {
   "cell_type": "markdown",
   "id": "58874387",
   "metadata": {},
   "source": [
    "# Biveriate Analysis"
   ]
  },
  {
   "cell_type": "code",
   "execution_count": 78,
   "id": "328d29c2",
   "metadata": {},
   "outputs": [],
   "source": [
    "#Biveriate analysis explor how the dependent (outcome )varible depends or is explaind by the independent or explanatory variable"
   ]
  },
  {
   "cell_type": "markdown",
   "id": "b4a8af08",
   "metadata": {},
   "source": [
    "# line chart for Price and Rating"
   ]
  },
  {
   "cell_type": "code",
   "execution_count": 79,
   "id": "0c5876d1",
   "metadata": {},
   "outputs": [
    {
     "data": {
      "text/plain": [
       "<AxesSubplot:xlabel='Price', ylabel='Rating'>"
      ]
     },
     "execution_count": 79,
     "metadata": {},
     "output_type": "execute_result"
    },
    {
     "data": {
      "image/png": "[encoded data removed]",
      "text/plain": [
       "<Figure size 432x288 with 1 Axes>"
      ]
     },
     "metadata": {
      "needs_background": "light"
     },
     "output_type": "display_data"
    }
   ],
   "source": [
    "sns.lineplot(x=df['Price'],y=df['Rating'].astype(float),data=df)"
   ]
  },
  {
   "cell_type": "code",
   "execution_count": 80,
   "id": "5f7d74d4",
   "metadata": {},
   "outputs": [],
   "source": [
    "#interpretation: this lineplot shows the combination  of price and rating in the dataframe"
   ]
  },
  {
   "cell_type": "markdown",
   "id": "3599a0a3",
   "metadata": {},
   "source": [
    "# Scatterplot for price and orginal_price"
   ]
  },
  {
   "cell_type": "code",
   "execution_count": 81,
   "id": "90fe2600",
   "metadata": {},
   "outputs": [
    {
     "data": {
      "image/png": "[encoded data removed]",
      "text/plain": [
       "<Figure size 432x288 with 1 Axes>"
      ]
     },
     "metadata": {
      "needs_background": "light"
     },
     "output_type": "display_data"
    }
   ],
   "source": [
    "sns.scatterplot(x=df['Price'],y=df['Orginal_price'],data=df,color='k')\n",
    "plt.show()"
   ]
  },
  {
   "cell_type": "code",
   "execution_count": 82,
   "id": "d8a0ad4c",
   "metadata": {},
   "outputs": [],
   "source": [
    "#interpretation: this scatterplot  shows the combination of price and orginal_price in the dataframe"
   ]
  },
  {
   "cell_type": "code",
   "execution_count": 83,
   "id": "e0eff84c",
   "metadata": {},
   "outputs": [
    {
     "data": {
      "image/png": "[encoded data removed]",
      "text/plain": [
       "<Figure size 432x288 with 1 Axes>"
      ]
     },
     "metadata": {
      "needs_background": "light"
     },
     "output_type": "display_data"
    }
   ],
   "source": [
    "sns.scatterplot(x=df['Rating'],y=df['Price'],data=df,color='k')\n",
    "plt.show()"
   ]
  },
  {
   "cell_type": "code",
   "execution_count": 84,
   "id": "01cacfdd",
   "metadata": {},
   "outputs": [],
   "source": [
    "# interpretation: this scatterplot shows the combination of price and rating"
   ]
  },
  {
   "cell_type": "markdown",
   "id": "e8a863aa",
   "metadata": {},
   "source": [
    "# Bar plot for Brand and Rating"
   ]
  },
  {
   "cell_type": "code",
   "execution_count": null,
   "id": "6bface8a",
   "metadata": {},
   "outputs": [],
   "source": []
  },
  {
   "cell_type": "code",
   "execution_count": 86,
   "id": "baa41591",
   "metadata": {},
   "outputs": [
    {
     "data": {
      "image/png": "[encoded data removed]",
      "text/plain": [
       "<Figure size 576x288 with 1 Axes>"
      ]
     },
     "metadata": {
      "needs_background": "light"
     },
     "output_type": "display_data"
    }
   ],
   "source": [
    "plt.figure(figsize=(8,4))\n",
    "sns.barplot(x='Brand',y='Rating',data=df)\n",
    "plt.title('Barplot')\n",
    "plt.show()\n"
   ]
  },
  {
   "cell_type": "code",
   "execution_count": null,
   "id": "8836b704",
   "metadata": {},
   "outputs": [],
   "source": [
    "#interpretation: this barplot shows the highest rating refrigerator in barplot,the highest rating product is Hisense"
   ]
  },
  {
   "cell_type": "code",
   "execution_count": 88,
   "id": "17e2ec2f",
   "metadata": {},
   "outputs": [
    {
     "data": {
      "image/png": "[encoded data removed]",
      "text/plain": [
       "<Figure size 360x360 with 1 Axes>"
      ]
     },
     "metadata": {
      "needs_background": "light"
     },
     "output_type": "display_data"
    }
   ],
   "source": [
    "plt.figure(figsize=(5,5))\n",
    "sns.barplot(x='Brand',y='star',data=df)\n",
    "plt.title('Barplot')\n",
    "plt.show()\n"
   ]
  },
  {
   "cell_type": "code",
   "execution_count": null,
   "id": "41e75f2d",
   "metadata": {},
   "outputs": [],
   "source": [
    "#interpretation: this barplot show the 5star  refrigerator,the 5star refrigerator is Haier"
   ]
  },
  {
   "cell_type": "code",
   "execution_count": 90,
   "id": "ad5fca82",
   "metadata": {},
   "outputs": [
    {
     "data": {
      "image/png": "[encoded data removed]",
      "text/plain": [
       "<Figure size 360x360 with 1 Axes>"
      ]
     },
     "metadata": {
      "needs_background": "light"
     },
     "output_type": "display_data"
    }
   ],
   "source": [
    "plt.figure(figsize=(5,5))\n",
    "sns.barplot(x='Brand',y='Price',data=df)\n",
    "plt.title('Barplot')\n",
    "plt.show()\n"
   ]
  },
  {
   "cell_type": "code",
   "execution_count": 91,
   "id": "008014a6",
   "metadata": {},
   "outputs": [],
   "source": [
    "#interpretation: this barplot shows the Brand with price combination"
   ]
  },
  {
   "cell_type": "code",
   "execution_count": 93,
   "id": "ded2dab7",
   "metadata": {},
   "outputs": [
    {
     "data": {
      "image/png": "[encoded data removed]",
      "text/plain": [
       "<Figure size 360x360 with 1 Axes>"
      ]
     },
     "metadata": {
      "needs_background": "light"
     },
     "output_type": "display_data"
    }
   ],
   "source": [
    "plt.figure(figsize=(5,5))\n",
    "sns.barplot(x='Brand',y='litters',data=df)\n",
    "plt.title('Barplot')\n",
    "plt.show()"
   ]
  },
  {
   "cell_type": "markdown",
   "id": "45f74f09",
   "metadata": {},
   "source": [
    "# Boxplot"
   ]
  },
  {
   "cell_type": "code",
   "execution_count": null,
   "id": "85509970",
   "metadata": {},
   "outputs": [],
   "source": []
  },
  {
   "cell_type": "code",
   "execution_count": 96,
   "id": "88d4794b",
   "metadata": {},
   "outputs": [
    {
     "data": {
      "image/png": "[encoded data removed]",
      "text/plain": [
       "<Figure size 720x720 with 1 Axes>"
      ]
     },
     "metadata": {
      "needs_background": "light"
     },
     "output_type": "display_data"
    }
   ],
   "source": [
    "plt.figure(figsize=(10,10))\n",
    "df['Price'].describe()\n",
    "sns.boxplot(x='Brand',y='Price',data=df)\n",
    "plt.title('Bosplot')\n",
    "plt.show()"
   ]
  },
  {
   "cell_type": "code",
   "execution_count": 97,
   "id": "5d200bdf",
   "metadata": {},
   "outputs": [],
   "source": [
    "#interpretation:this boxplot showa the price describe()"
   ]
  },
  {
   "cell_type": "code",
   "execution_count": 99,
   "id": "07890214",
   "metadata": {},
   "outputs": [
    {
     "data": {
      "image/png": "[encoded data removed]",
      "text/plain": [
       "<Figure size 720x720 with 1 Axes>"
      ]
     },
     "metadata": {
      "needs_background": "light"
     },
     "output_type": "display_data"
    }
   ],
   "source": [
    "plt.figure(figsize=(10,10))\n",
    "df['Rating'].describe()\n",
    "sns.boxplot(x='Brand',y='Rating',data=df)\n",
    "plt.title('Bosplot')\n",
    "plt.show()"
   ]
  },
  {
   "cell_type": "code",
   "execution_count": 100,
   "id": "cd908570",
   "metadata": {},
   "outputs": [],
   "source": [
    "#interpretation:this boxplot shows the Rating Describe()"
   ]
  },
  {
   "cell_type": "markdown",
   "id": "9ba5c69a",
   "metadata": {},
   "source": [
    "# Violinploy for Brand and Price"
   ]
  },
  {
   "cell_type": "code",
   "execution_count": 102,
   "id": "b1f2b5ad",
   "metadata": {},
   "outputs": [
    {
     "name": "stderr",
     "output_type": "stream",
     "text": [
      "C:\\Users\\sathish\\anaconda3\\lib\\site-packages\\seaborn\\_decorators.py:36: FutureWarning: Pass the following variables as keyword args: x, y. From version 0.12, the only valid positional argument will be `data`, and passing other arguments without an explicit keyword will result in an error or misinterpretation.\n",
      "  warnings.warn(\n"
     ]
    },
    {
     "data": {
      "text/plain": [
       "<AxesSubplot:xlabel='Brand', ylabel='Price'>"
      ]
     },
     "execution_count": 102,
     "metadata": {},
     "output_type": "execute_result"
    },
    {
     "data": {
      "image/png": "[encoded data removed]",
      "text/plain": [
       "<Figure size 720x720 with 1 Axes>"
      ]
     },
     "metadata": {
      "needs_background": "light"
     },
     "output_type": "display_data"
    }
   ],
   "source": [
    "plt.figure(figsize=(10,10))\n",
    "sns.violinplot(df['Brand'],df['Price'])"
   ]
  },
  {
   "cell_type": "markdown",
   "id": "a5b7c8a2",
   "metadata": {},
   "source": [
    "# Multivariate analysis"
   ]
  },
  {
   "cell_type": "code",
   "execution_count": 103,
   "id": "853f03d6",
   "metadata": {},
   "outputs": [],
   "source": [
    "#multivariate analysis conceptualize by tradition as the statistical study of expriments in which multiple measuresments are made on each experimental unit."
   ]
  },
  {
   "cell_type": "markdown",
   "id": "b173904c",
   "metadata": {},
   "source": [
    "# Barplot for Brand ,Star and Price"
   ]
  },
  {
   "cell_type": "code",
   "execution_count": 104,
   "id": "227467e4",
   "metadata": {},
   "outputs": [
    {
     "data": {
      "image/png": "[encoded data removed]",
      "text/plain": [
       "<Figure size 720x360 with 1 Axes>"
      ]
     },
     "metadata": {
      "needs_background": "light"
     },
     "output_type": "display_data"
    }
   ],
   "source": [
    "plt.figure(figsize=(10,5))\n",
    "sns.barplot(x='Brand',hue='star',y='Price',data=df)\n",
    "plt.title('Barplot')\n",
    "plt.grid()\n",
    "plt.show()\n",
    "#it was visualize barplot of price column and Rating column"
   ]
  },
  {
   "cell_type": "code",
   "execution_count": 105,
   "id": "121da907",
   "metadata": {},
   "outputs": [],
   "source": [
    "#interpretation: this barplot shows 5star Brand and Refrigerator price"
   ]
  },
  {
   "cell_type": "code",
   "execution_count": 106,
   "id": "15d550a6",
   "metadata": {},
   "outputs": [
    {
     "data": {
      "image/png": "[encoded data removed]",
      "text/plain": [
       "<Figure size 1296x648 with 1 Axes>"
      ]
     },
     "metadata": {
      "needs_background": "light"
     },
     "output_type": "display_data"
    }
   ],
   "source": [
    "plt.figure(figsize=(18,9))\n",
    "sns.barplot(x='Brand',hue='Rating',y='Price',data=df)\n",
    "plt.title('Barplot')\n",
    "plt.show()"
   ]
  },
  {
   "cell_type": "code",
   "execution_count": 107,
   "id": "af452f47",
   "metadata": {},
   "outputs": [],
   "source": [
    "#interpretation: this barplot shows the top rating refrigerators and price of the refrigerator."
   ]
  },
  {
   "cell_type": "code",
   "execution_count": 108,
   "id": "d7ec517e",
   "metadata": {},
   "outputs": [
    {
     "data": {
      "image/png": "[encoded data removed]",
      "text/plain": [
       "<Figure size 1296x648 with 1 Axes>"
      ]
     },
     "metadata": {
      "needs_background": "light"
     },
     "output_type": "display_data"
    }
   ],
   "source": [
    "plt.figure(figsize=(18,9))\n",
    "sns.barplot(x='Brand',hue='star',y='litters',data=df)\n",
    "plt.title('Barplot')\n",
    "plt.show()"
   ]
  },
  {
   "cell_type": "code",
   "execution_count": 109,
   "id": "251e7cd1",
   "metadata": {},
   "outputs": [],
   "source": [
    "#intrepretation:this bar plot show highest litters refrigerators with 5star Refrigerator"
   ]
  },
  {
   "cell_type": "code",
   "execution_count": 110,
   "id": "dff5c77a",
   "metadata": {},
   "outputs": [
    {
     "data": {
      "image/png": "[encoded data removed]",
      "text/plain": [
       "<Figure size 1296x648 with 1 Axes>"
      ]
     },
     "metadata": {
      "needs_background": "light"
     },
     "output_type": "display_data"
    }
   ],
   "source": [
    "plt.figure(figsize=(18,9))\n",
    "sns.barplot(x='Brand',hue='Orginal_price',y='Price',data=df)\n",
    "plt.title('Barplot')\n",
    "plt.show()"
   ]
  },
  {
   "cell_type": "code",
   "execution_count": 111,
   "id": "6818a187",
   "metadata": {},
   "outputs": [],
   "source": [
    "#interpretation: this barplot shows brand with their price and orginal_price, SAMSUNG Refrigerators are the high price Refrigerators."
   ]
  },
  {
   "cell_type": "markdown",
   "id": "0b045b9f",
   "metadata": {},
   "source": [
    "# Scatterplot for Brand ,Orginal_price and price"
   ]
  },
  {
   "cell_type": "code",
   "execution_count": 112,
   "id": "e1c494c6",
   "metadata": {},
   "outputs": [
    {
     "data": {
      "image/png": "[encoded data removed]",
      "text/plain": [
       "<Figure size 576x360 with 1 Axes>"
      ]
     },
     "metadata": {
      "needs_background": "light"
     },
     "output_type": "display_data"
    }
   ],
   "source": [
    "plt.figure(figsize=(8,5))\n",
    "sns.scatterplot(x='Brand',hue='Orginal_price',y='Price',data=df)\n",
    "plt.title('Barplot')\n",
    "plt.show()"
   ]
  },
  {
   "cell_type": "code",
   "execution_count": 113,
   "id": "e3018ef2",
   "metadata": {},
   "outputs": [],
   "source": [
    "#interpretation: this scatterplot shows brand with their price and orginal_price, SAMSUNG Refrigerators are the high price Refrigerators."
   ]
  },
  {
   "cell_type": "code",
   "execution_count": 114,
   "id": "a8d447dd",
   "metadata": {},
   "outputs": [
    {
     "data": {
      "image/png": "[encoded data removed]",
      "text/plain": [
       "<Figure size 576x360 with 1 Axes>"
      ]
     },
     "metadata": {
      "needs_background": "light"
     },
     "output_type": "display_data"
    }
   ],
   "source": [
    "plt.figure(figsize=(8,5))\n",
    "sns.scatterplot(x='Orginal_price',hue='Rating',y='Price',data=df)\n",
    "plt.title('Barplot')\n",
    "plt.show()"
   ]
  },
  {
   "cell_type": "code",
   "execution_count": 115,
   "id": "51e79f23",
   "metadata": {},
   "outputs": [],
   "source": [
    "#interpretation: this scatterplot shows the price and orginalprice and Ratings of the refrigerator."
   ]
  },
  {
   "cell_type": "markdown",
   "id": "9db02799",
   "metadata": {},
   "source": [
    "# Heatmap for Price,Rating,litters,star"
   ]
  },
  {
   "cell_type": "code",
   "execution_count": 116,
   "id": "67c62516",
   "metadata": {},
   "outputs": [
    {
     "data": {
      "image/png": "[encoded data removed]",
      "text/plain": [
       "<Figure size 576x360 with 2 Axes>"
      ]
     },
     "metadata": {
      "needs_background": "light"
     },
     "output_type": "display_data"
    }
   ],
   "source": [
    "plt.figure(figsize=(8,5))\n",
    "sns.heatmap(df[['Price','Rating','litters','star']].corr(),annot=True)\n",
    "plt.show()"
   ]
  },
  {
   "cell_type": "code",
   "execution_count": 117,
   "id": "db9729af",
   "metadata": {},
   "outputs": [],
   "source": [
    "#interpretation: this heatplot shows the price,rating,litters,star values"
   ]
  },
  {
   "cell_type": "markdown",
   "id": "618f653e",
   "metadata": {},
   "source": [
    "# Pairplot for Rating"
   ]
  },
  {
   "cell_type": "code",
   "execution_count": 118,
   "id": "e8573725",
   "metadata": {},
   "outputs": [
    {
     "name": "stderr",
     "output_type": "stream",
     "text": [
      "C:\\Users\\sathish\\anaconda3\\lib\\site-packages\\seaborn\\distributions.py:306: UserWarning: Dataset has 0 variance; skipping density estimate.\n",
      "  warnings.warn(msg, UserWarning)\n"
     ]
    },
    {
     "data": {
      "text/plain": [
       "<Figure size 720x360 with 0 Axes>"
      ]
     },
     "metadata": {},
     "output_type": "display_data"
    },
    {
     "data": {
      "image/png": "[encoded data removed]",
      "text/plain": [
       "<Figure size 772x720 with 20 Axes>"
      ]
     },
     "metadata": {
      "needs_background": "light"
     },
     "output_type": "display_data"
    }
   ],
   "source": [
    "import warnings\n",
    "plt.figure(figsize=(10,5))\n",
    "sns.pairplot(hue='Rating',data=df)\n",
    "plt.title('pairplot')\n",
    "plt.show()"
   ]
  },
  {
   "cell_type": "code",
   "execution_count": 119,
   "id": "12560168",
   "metadata": {},
   "outputs": [],
   "source": [
    "#interpretation: this pair plot shows the Rating it will pair all numerical columns"
   ]
  },
  {
   "cell_type": "code",
   "execution_count": null,
   "id": "31815bb5",
   "metadata": {},
   "outputs": [],
   "source": []
  }
 ],
 "metadata": {
  "kernelspec": {
   "display_name": "Python 3",
   "language": "python",
   "name": "python3"
  },
  "language_info": {
   "codemirror_mode": {
    "name": "ipython",
    "version": 3
   },
   "file_extension": ".py",
   "mimetype": "text/x-python",
   "name": "python",
   "nbconvert_exporter": "python",
   "pygments_lexer": "ipython3",
   "version": "3.8.8"
  }
 },
 "nbformat": 4,
 "nbformat_minor": 5
}
